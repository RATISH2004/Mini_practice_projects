{
 "cells": [
  {
   "cell_type": "markdown",
   "metadata": {
    "execution": {
     "iopub.execute_input": "2024-10-08T06:09:29.914879Z",
     "iopub.status.busy": "2024-10-08T06:09:29.913969Z",
     "iopub.status.idle": "2024-10-08T06:09:29.920560Z",
     "shell.execute_reply": "2024-10-08T06:09:29.919334Z",
     "shell.execute_reply.started": "2024-10-08T06:09:29.914838Z"
    }
   },
   "source": [
    "# Sentiment analysis using LSTM - Tamil language dataset"
   ]
  },
  {
   "cell_type": "code",
   "execution_count": 1,
   "metadata": {
    "execution": {
     "iopub.execute_input": "2024-10-24T09:55:02.031747Z",
     "iopub.status.busy": "2024-10-24T09:55:02.031454Z",
     "iopub.status.idle": "2024-10-24T09:55:15.762527Z",
     "shell.execute_reply": "2024-10-24T09:55:15.761688Z",
     "shell.execute_reply.started": "2024-10-24T09:55:02.031714Z"
    },
    "trusted": true
   },
   "outputs": [],
   "source": [
    "import tensorflow as tf\n",
    "import numpy as np\n",
    "import pandas as pd\n",
    "import matplotlib.pyplot as plt\n",
    "import seaborn as sns\n",
    "from tensorflow.keras.models import Sequential\n",
    "from tensorflow.keras.layers import Embedding, LSTM, Dense\n",
    "from sklearn.preprocessing import LabelEncoder\n",
    "from sklearn.model_selection import train_test_split\n",
    "from tensorflow.keras.preprocessing.text import Tokenizer\n",
    "from tensorflow.keras.preprocessing.sequence import pad_sequences\n",
    "from sklearn.metrics import accuracy_score"
   ]
  },
  {
   "cell_type": "code",
   "execution_count": 2,
   "metadata": {
    "execution": {
     "iopub.execute_input": "2024-10-24T09:55:23.803116Z",
     "iopub.status.busy": "2024-10-24T09:55:23.802509Z",
     "iopub.status.idle": "2024-10-24T09:55:23.972264Z",
     "shell.execute_reply": "2024-10-24T09:55:23.971497Z",
     "shell.execute_reply.started": "2024-10-24T09:55:23.803077Z"
    },
    "trusted": true
   },
   "outputs": [],
   "source": [
    "df1=pd.read_csv(\"/kaggle/input/mydata2/ta-emotion10-trainset.csv\",sep=\"\\t\",header=None)\n",
    "df2=pd.read_csv(\"/kaggle/input/mydata2/ta-emotion10_test.csv\",sep=\"\\t\",header=None)# INPUT DATA"
   ]
  },
  {
   "cell_type": "markdown",
   "metadata": {},
   "source": [
    "# EXPLORE DATA"
   ]
  },
  {
   "cell_type": "code",
   "execution_count": 3,
   "metadata": {
    "execution": {
     "iopub.execute_input": "2024-10-24T09:55:25.918179Z",
     "iopub.status.busy": "2024-10-24T09:55:25.917409Z",
     "iopub.status.idle": "2024-10-24T09:55:25.935695Z",
     "shell.execute_reply": "2024-10-24T09:55:25.934810Z",
     "shell.execute_reply.started": "2024-10-24T09:55:25.918142Z"
    },
    "trusted": true
   },
   "outputs": [
    {
     "data": {
      "text/html": [
       "<div>\n",
       "<style scoped>\n",
       "    .dataframe tbody tr th:only-of-type {\n",
       "        vertical-align: middle;\n",
       "    }\n",
       "\n",
       "    .dataframe tbody tr th {\n",
       "        vertical-align: top;\n",
       "    }\n",
       "\n",
       "    .dataframe thead th {\n",
       "        text-align: right;\n",
       "    }\n",
       "</style>\n",
       "<table border=\"1\" class=\"dataframe\">\n",
       "  <thead>\n",
       "    <tr style=\"text-align: right;\">\n",
       "      <th></th>\n",
       "      <th>0</th>\n",
       "      <th>1</th>\n",
       "    </tr>\n",
       "  </thead>\n",
       "  <tbody>\n",
       "    <tr>\n",
       "      <th>0</th>\n",
       "      <td>Neutral</td>\n",
       "      <td>நாளைக்கு அரிசிக்கு இந்த நிலமை வந்தா 🙂</td>\n",
       "    </tr>\n",
       "    <tr>\n",
       "      <th>1</th>\n",
       "      <td>Anger</td>\n",
       "      <td>மானம் கேட்ட அன்புமணி</td>\n",
       "    </tr>\n",
       "    <tr>\n",
       "      <th>2</th>\n",
       "      <td>Neutral</td>\n",
       "      <td>தவறு இஸ்ரேல் இருக்காது இதை நான் கூறவில்லை ஹமாஸ...</td>\n",
       "    </tr>\n",
       "    <tr>\n",
       "      <th>3</th>\n",
       "      <td>Joy</td>\n",
       "      <td>கொங்கு நாட்டு சிங்கம் உன்மையும் நேர்மையும் உலை...</td>\n",
       "    </tr>\n",
       "    <tr>\n",
       "      <th>4</th>\n",
       "      <td>Neutral</td>\n",
       "      <td>இவர் யார்? ஒவ்வொரு வார்த்தையும் முன்னுக்கு பின...</td>\n",
       "    </tr>\n",
       "  </tbody>\n",
       "</table>\n",
       "</div>"
      ],
      "text/plain": [
       "         0                                                  1\n",
       "0  Neutral              நாளைக்கு அரிசிக்கு இந்த நிலமை வந்தா 🙂\n",
       "1    Anger                               மானம் கேட்ட அன்புமணி\n",
       "2  Neutral  தவறு இஸ்ரேல் இருக்காது இதை நான் கூறவில்லை ஹமாஸ...\n",
       "3      Joy  கொங்கு நாட்டு சிங்கம் உன்மையும் நேர்மையும் உலை...\n",
       "4  Neutral  இவர் யார்? ஒவ்வொரு வார்த்தையும் முன்னுக்கு பின..."
      ]
     },
     "execution_count": 3,
     "metadata": {},
     "output_type": "execute_result"
    }
   ],
   "source": [
    "df1.head()"
   ]
  },
  {
   "cell_type": "code",
   "execution_count": 4,
   "metadata": {
    "execution": {
     "iopub.execute_input": "2024-10-24T09:55:26.186876Z",
     "iopub.status.busy": "2024-10-24T09:55:26.186554Z",
     "iopub.status.idle": "2024-10-24T09:55:26.193030Z",
     "shell.execute_reply": "2024-10-24T09:55:26.192143Z",
     "shell.execute_reply.started": "2024-10-24T09:55:26.186842Z"
    },
    "trusted": true
   },
   "outputs": [
    {
     "data": {
      "text/plain": [
       "Index([0, 1], dtype='int64')"
      ]
     },
     "execution_count": 4,
     "metadata": {},
     "output_type": "execute_result"
    }
   ],
   "source": [
    "df1.columns"
   ]
  },
  {
   "cell_type": "code",
   "execution_count": 5,
   "metadata": {
    "execution": {
     "iopub.execute_input": "2024-10-24T09:55:26.526519Z",
     "iopub.status.busy": "2024-10-24T09:55:26.526199Z",
     "iopub.status.idle": "2024-10-24T09:55:26.532229Z",
     "shell.execute_reply": "2024-10-24T09:55:26.531270Z",
     "shell.execute_reply.started": "2024-10-24T09:55:26.526486Z"
    },
    "trusted": true
   },
   "outputs": [
    {
     "data": {
      "text/plain": [
       "(14208, 2)"
      ]
     },
     "execution_count": 5,
     "metadata": {},
     "output_type": "execute_result"
    }
   ],
   "source": [
    "df1.shape"
   ]
  },
  {
   "cell_type": "code",
   "execution_count": 6,
   "metadata": {
    "execution": {
     "iopub.execute_input": "2024-10-24T09:55:26.596959Z",
     "iopub.status.busy": "2024-10-24T09:55:26.596696Z",
     "iopub.status.idle": "2024-10-24T09:55:26.608663Z",
     "shell.execute_reply": "2024-10-24T09:55:26.607454Z",
     "shell.execute_reply.started": "2024-10-24T09:55:26.596930Z"
    },
    "trusted": true
   },
   "outputs": [
    {
     "data": {
      "text/plain": [
       "0    0\n",
       "1    0\n",
       "dtype: int64"
      ]
     },
     "execution_count": 6,
     "metadata": {},
     "output_type": "execute_result"
    }
   ],
   "source": [
    "df1.isna().sum()"
   ]
  },
  {
   "cell_type": "code",
   "execution_count": 7,
   "metadata": {
    "execution": {
     "iopub.execute_input": "2024-10-24T09:55:26.842541Z",
     "iopub.status.busy": "2024-10-24T09:55:26.841559Z",
     "iopub.status.idle": "2024-10-24T09:55:26.847435Z",
     "shell.execute_reply": "2024-10-24T09:55:26.846507Z",
     "shell.execute_reply.started": "2024-10-24T09:55:26.842508Z"
    },
    "trusted": true
   },
   "outputs": [
    {
     "data": {
      "text/plain": [
       "(3552, 2)"
      ]
     },
     "execution_count": 7,
     "metadata": {},
     "output_type": "execute_result"
    }
   ],
   "source": [
    "df2.shape"
   ]
  },
  {
   "cell_type": "code",
   "execution_count": 8,
   "metadata": {
    "execution": {
     "iopub.execute_input": "2024-10-24T09:55:27.089156Z",
     "iopub.status.busy": "2024-10-24T09:55:27.088877Z",
     "iopub.status.idle": "2024-10-24T09:55:27.097206Z",
     "shell.execute_reply": "2024-10-24T09:55:27.096261Z",
     "shell.execute_reply.started": "2024-10-24T09:55:27.089126Z"
    },
    "trusted": true
   },
   "outputs": [
    {
     "data": {
      "text/plain": [
       "0    0\n",
       "1    0\n",
       "dtype: int64"
      ]
     },
     "execution_count": 8,
     "metadata": {},
     "output_type": "execute_result"
    }
   ],
   "source": [
    "df2.isna().sum()"
   ]
  },
  {
   "cell_type": "code",
   "execution_count": 9,
   "metadata": {
    "execution": {
     "iopub.execute_input": "2024-10-24T09:55:27.496271Z",
     "iopub.status.busy": "2024-10-24T09:55:27.495969Z",
     "iopub.status.idle": "2024-10-24T09:55:27.500211Z",
     "shell.execute_reply": "2024-10-24T09:55:27.499166Z",
     "shell.execute_reply.started": "2024-10-24T09:55:27.496239Z"
    },
    "trusted": true
   },
   "outputs": [],
   "source": [
    "# tRAIN lstm ON TRAIN AND TEST DATA"
   ]
  },
  {
   "cell_type": "markdown",
   "metadata": {},
   "source": []
  },
  {
   "cell_type": "markdown",
   "metadata": {},
   "source": []
  },
  {
   "cell_type": "code",
   "execution_count": 10,
   "metadata": {
    "execution": {
     "iopub.execute_input": "2024-10-24T09:55:33.409625Z",
     "iopub.status.busy": "2024-10-24T09:55:33.408735Z",
     "iopub.status.idle": "2024-10-24T09:58:04.828617Z",
     "shell.execute_reply": "2024-10-24T09:58:04.827702Z",
     "shell.execute_reply.started": "2024-10-24T09:55:33.409585Z"
    },
    "trusted": true
   },
   "outputs": [
    {
     "name": "stderr",
     "output_type": "stream",
     "text": [
      "/opt/conda/lib/python3.10/site-packages/keras/src/layers/core/embedding.py:90: UserWarning: Argument `input_length` is deprecated. Just remove it.\n",
      "  warnings.warn(\n"
     ]
    },
    {
     "name": "stdout",
     "output_type": "stream",
     "text": [
      "Epoch 1/30\n",
      "\u001b[1m356/356\u001b[0m \u001b[32m━━━━━━━━━━━━━━━━━━━━\u001b[0m\u001b[37m\u001b[0m \u001b[1m9s\u001b[0m 14ms/step - accuracy: 0.3526 - loss: 2.0135 - val_accuracy: 0.4103 - val_loss: 1.7811\n",
      "Epoch 2/30\n",
      "\u001b[1m356/356\u001b[0m \u001b[32m━━━━━━━━━━━━━━━━━━━━\u001b[0m\u001b[37m\u001b[0m \u001b[1m5s\u001b[0m 13ms/step - accuracy: 0.5258 - loss: 1.4212 - val_accuracy: 0.3871 - val_loss: 1.8978\n",
      "Epoch 3/30\n",
      "\u001b[1m356/356\u001b[0m \u001b[32m━━━━━━━━━━━━━━━━━━━━\u001b[0m\u001b[37m\u001b[0m \u001b[1m5s\u001b[0m 13ms/step - accuracy: 0.8156 - loss: 0.5881 - val_accuracy: 0.3332 - val_loss: 2.3903\n",
      "Epoch 4/30\n",
      "\u001b[1m356/356\u001b[0m \u001b[32m━━━━━━━━━━━━━━━━━━━━\u001b[0m\u001b[37m\u001b[0m \u001b[1m5s\u001b[0m 13ms/step - accuracy: 0.9460 - loss: 0.1919 - val_accuracy: 0.3297 - val_loss: 3.0300\n",
      "Epoch 5/30\n",
      "\u001b[1m356/356\u001b[0m \u001b[32m━━━━━━━━━━━━━━━━━━━━\u001b[0m\u001b[37m\u001b[0m \u001b[1m5s\u001b[0m 13ms/step - accuracy: 0.9797 - loss: 0.0753 - val_accuracy: 0.3248 - val_loss: 3.4834\n",
      "Epoch 6/30\n",
      "\u001b[1m356/356\u001b[0m \u001b[32m━━━━━━━━━━━━━━━━━━━━\u001b[0m\u001b[37m\u001b[0m \u001b[1m5s\u001b[0m 13ms/step - accuracy: 0.9885 - loss: 0.0442 - val_accuracy: 0.3213 - val_loss: 3.7885\n",
      "Epoch 7/30\n",
      "\u001b[1m356/356\u001b[0m \u001b[32m━━━━━━━━━━━━━━━━━━━━\u001b[0m\u001b[37m\u001b[0m \u001b[1m5s\u001b[0m 13ms/step - accuracy: 0.9906 - loss: 0.0341 - val_accuracy: 0.3121 - val_loss: 3.9284\n",
      "Epoch 8/30\n",
      "\u001b[1m356/356\u001b[0m \u001b[32m━━━━━━━━━━━━━━━━━━━━\u001b[0m\u001b[37m\u001b[0m \u001b[1m5s\u001b[0m 13ms/step - accuracy: 0.9928 - loss: 0.0252 - val_accuracy: 0.2977 - val_loss: 3.8669\n",
      "Epoch 9/30\n",
      "\u001b[1m356/356\u001b[0m \u001b[32m━━━━━━━━━━━━━━━━━━━━\u001b[0m\u001b[37m\u001b[0m \u001b[1m5s\u001b[0m 13ms/step - accuracy: 0.9930 - loss: 0.0231 - val_accuracy: 0.3019 - val_loss: 4.2342\n",
      "Epoch 10/30\n",
      "\u001b[1m356/356\u001b[0m \u001b[32m━━━━━━━━━━━━━━━━━━━━\u001b[0m\u001b[37m\u001b[0m \u001b[1m5s\u001b[0m 13ms/step - accuracy: 0.9958 - loss: 0.0141 - val_accuracy: 0.2980 - val_loss: 4.0825\n",
      "Epoch 11/30\n",
      "\u001b[1m356/356\u001b[0m \u001b[32m━━━━━━━━━━━━━━━━━━━━\u001b[0m\u001b[37m\u001b[0m \u001b[1m5s\u001b[0m 13ms/step - accuracy: 0.9956 - loss: 0.0134 - val_accuracy: 0.2910 - val_loss: 4.3236\n",
      "Epoch 12/30\n",
      "\u001b[1m356/356\u001b[0m \u001b[32m━━━━━━━━━━━━━━━━━━━━\u001b[0m\u001b[37m\u001b[0m \u001b[1m5s\u001b[0m 13ms/step - accuracy: 0.9960 - loss: 0.0142 - val_accuracy: 0.3044 - val_loss: 4.5273\n",
      "Epoch 13/30\n",
      "\u001b[1m356/356\u001b[0m \u001b[32m━━━━━━━━━━━━━━━━━━━━\u001b[0m\u001b[37m\u001b[0m \u001b[1m5s\u001b[0m 13ms/step - accuracy: 0.9953 - loss: 0.0121 - val_accuracy: 0.2899 - val_loss: 4.5818\n",
      "Epoch 14/30\n",
      "\u001b[1m356/356\u001b[0m \u001b[32m━━━━━━━━━━━━━━━━━━━━\u001b[0m\u001b[37m\u001b[0m \u001b[1m5s\u001b[0m 13ms/step - accuracy: 0.9942 - loss: 0.0159 - val_accuracy: 0.2759 - val_loss: 4.9525\n",
      "Epoch 15/30\n",
      "\u001b[1m356/356\u001b[0m \u001b[32m━━━━━━━━━━━━━━━━━━━━\u001b[0m\u001b[37m\u001b[0m \u001b[1m5s\u001b[0m 13ms/step - accuracy: 0.9969 - loss: 0.0100 - val_accuracy: 0.2970 - val_loss: 4.6334\n",
      "Epoch 16/30\n",
      "\u001b[1m356/356\u001b[0m \u001b[32m━━━━━━━━━━━━━━━━━━━━\u001b[0m\u001b[37m\u001b[0m \u001b[1m5s\u001b[0m 13ms/step - accuracy: 0.9976 - loss: 0.0076 - val_accuracy: 0.2935 - val_loss: 4.8311\n",
      "Epoch 17/30\n",
      "\u001b[1m356/356\u001b[0m \u001b[32m━━━━━━━━━━━━━━━━━━━━\u001b[0m\u001b[37m\u001b[0m \u001b[1m5s\u001b[0m 13ms/step - accuracy: 0.9976 - loss: 0.0099 - val_accuracy: 0.2857 - val_loss: 5.0887\n",
      "Epoch 18/30\n",
      "\u001b[1m356/356\u001b[0m \u001b[32m━━━━━━━━━━━━━━━━━━━━\u001b[0m\u001b[37m\u001b[0m \u001b[1m5s\u001b[0m 14ms/step - accuracy: 0.9962 - loss: 0.0125 - val_accuracy: 0.2854 - val_loss: 4.8698\n",
      "Epoch 19/30\n",
      "\u001b[1m356/356\u001b[0m \u001b[32m━━━━━━━━━━━━━━━━━━━━\u001b[0m\u001b[37m\u001b[0m \u001b[1m5s\u001b[0m 13ms/step - accuracy: 0.9970 - loss: 0.0090 - val_accuracy: 0.2987 - val_loss: 4.9453\n",
      "Epoch 20/30\n",
      "\u001b[1m356/356\u001b[0m \u001b[32m━━━━━━━━━━━━━━━━━━━━\u001b[0m\u001b[37m\u001b[0m \u001b[1m5s\u001b[0m 13ms/step - accuracy: 0.9990 - loss: 0.0044 - val_accuracy: 0.2984 - val_loss: 5.2371\n",
      "Epoch 21/30\n",
      "\u001b[1m356/356\u001b[0m \u001b[32m━━━━━━━━━━━━━━━━━━━━\u001b[0m\u001b[37m\u001b[0m \u001b[1m5s\u001b[0m 13ms/step - accuracy: 0.9995 - loss: 0.0041 - val_accuracy: 0.2847 - val_loss: 5.1318\n",
      "Epoch 22/30\n",
      "\u001b[1m356/356\u001b[0m \u001b[32m━━━━━━━━━━━━━━━━━━━━\u001b[0m\u001b[37m\u001b[0m \u001b[1m5s\u001b[0m 13ms/step - accuracy: 0.9989 - loss: 0.0036 - val_accuracy: 0.2871 - val_loss: 5.1806\n",
      "Epoch 23/30\n",
      "\u001b[1m356/356\u001b[0m \u001b[32m━━━━━━━━━━━━━━━━━━━━\u001b[0m\u001b[37m\u001b[0m \u001b[1m5s\u001b[0m 13ms/step - accuracy: 0.9996 - loss: 0.0025 - val_accuracy: 0.2906 - val_loss: 5.1871\n",
      "Epoch 24/30\n",
      "\u001b[1m356/356\u001b[0m \u001b[32m━━━━━━━━━━━━━━━━━━━━\u001b[0m\u001b[37m\u001b[0m \u001b[1m5s\u001b[0m 13ms/step - accuracy: 0.9998 - loss: 0.0012 - val_accuracy: 0.2868 - val_loss: 5.4910\n",
      "Epoch 25/30\n",
      "\u001b[1m356/356\u001b[0m \u001b[32m━━━━━━━━━━━━━━━━━━━━\u001b[0m\u001b[37m\u001b[0m \u001b[1m5s\u001b[0m 13ms/step - accuracy: 0.9999 - loss: 6.5585e-04 - val_accuracy: 0.2889 - val_loss: 5.6836\n",
      "Epoch 26/30\n",
      "\u001b[1m356/356\u001b[0m \u001b[32m━━━━━━━━━━━━━━━━━━━━\u001b[0m\u001b[37m\u001b[0m \u001b[1m5s\u001b[0m 13ms/step - accuracy: 0.9997 - loss: 0.0014 - val_accuracy: 0.2861 - val_loss: 5.8420\n",
      "Epoch 27/30\n",
      "\u001b[1m356/356\u001b[0m \u001b[32m━━━━━━━━━━━━━━━━━━━━\u001b[0m\u001b[37m\u001b[0m \u001b[1m5s\u001b[0m 13ms/step - accuracy: 0.9999 - loss: 4.8444e-04 - val_accuracy: 0.2836 - val_loss: 5.9995\n",
      "Epoch 28/30\n",
      "\u001b[1m356/356\u001b[0m \u001b[32m━━━━━━━━━━━━━━━━━━━━\u001b[0m\u001b[37m\u001b[0m \u001b[1m5s\u001b[0m 13ms/step - accuracy: 0.9996 - loss: 0.0012 - val_accuracy: 0.2790 - val_loss: 6.1696\n",
      "Epoch 29/30\n",
      "\u001b[1m356/356\u001b[0m \u001b[32m━━━━━━━━━━━━━━━━━━━━\u001b[0m\u001b[37m\u001b[0m \u001b[1m5s\u001b[0m 13ms/step - accuracy: 0.9995 - loss: 0.0020 - val_accuracy: 0.2730 - val_loss: 4.7418\n",
      "Epoch 30/30\n",
      "\u001b[1m356/356\u001b[0m \u001b[32m━━━━━━━━━━━━━━━━━━━━\u001b[0m\u001b[37m\u001b[0m \u001b[1m5s\u001b[0m 13ms/step - accuracy: 0.9945 - loss: 0.0172 - val_accuracy: 0.2882 - val_loss: 4.9848\n",
      "\u001b[1m111/111\u001b[0m \u001b[32m━━━━━━━━━━━━━━━━━━━━\u001b[0m\u001b[37m\u001b[0m \u001b[1m1s\u001b[0m 4ms/step\n",
      "                                                      1 predicted_emotion\n",
      "0     அருமை அற்புதம் பிரமாதம் நண்பரே வாழ்த்துக்கள் ந...               Joy\n",
      "1                        வேல்ராஜ் வேலையா தான் இருக்கும்           Neutral\n",
      "2                    அண்ணன் கிட்டுக்கு வாழ்த்துக்கள் 👍👍               Joy\n",
      "3                        ஆமா நானும் இதான் யோசித்தேன் 🤣🤣             Trust\n",
      "4     மொத்த மக்களும் ஒன்னு சேர்ந்தாதான் இந்த அரசாங்க...             Trust\n",
      "...                                                 ...               ...\n",
      "3547  ஐயா தூத்துக்குடி ல கட்டுப்பாடுகளை மீறி சில பேக...             Trust\n",
      "3548              உங்கள் கருத்துப்படி  மகிழ்ச்சி  கோமதி               Joy\n",
      "3549  அறுமையான விலக்கம் நன்றி ஆன்டவர் உங்களை ஆசிர்வத...              Love\n",
      "3550  அப்ப மட்டும் இல்ல இப்பவும் கூட . அரை வயிற்றுக்...               Joy\n",
      "3551  நம்மத் தமிலர் ச்சீமான் பெண்களை பாலியலுக்காக ஏம...           Neutral\n",
      "\n",
      "[3552 rows x 2 columns]\n"
     ]
    },
    {
     "data": {
      "text/html": [
       "<div>\n",
       "<style scoped>\n",
       "    .dataframe tbody tr th:only-of-type {\n",
       "        vertical-align: middle;\n",
       "    }\n",
       "\n",
       "    .dataframe tbody tr th {\n",
       "        vertical-align: top;\n",
       "    }\n",
       "\n",
       "    .dataframe thead th {\n",
       "        text-align: right;\n",
       "    }\n",
       "</style>\n",
       "<table border=\"1\" class=\"dataframe\">\n",
       "  <thead>\n",
       "    <tr style=\"text-align: right;\">\n",
       "      <th></th>\n",
       "      <th>0</th>\n",
       "      <th>1</th>\n",
       "      <th>predicted_emotion</th>\n",
       "    </tr>\n",
       "  </thead>\n",
       "  <tbody>\n",
       "    <tr>\n",
       "      <th>0</th>\n",
       "      <td>Joy</td>\n",
       "      <td>அருமை அற்புதம் பிரமாதம் நண்பரே வாழ்த்துக்கள் ந...</td>\n",
       "      <td>Joy</td>\n",
       "    </tr>\n",
       "    <tr>\n",
       "      <th>1</th>\n",
       "      <td>Anticipation</td>\n",
       "      <td>வேல்ராஜ் வேலையா தான் இருக்கும்</td>\n",
       "      <td>Neutral</td>\n",
       "    </tr>\n",
       "    <tr>\n",
       "      <th>2</th>\n",
       "      <td>Joy</td>\n",
       "      <td>அண்ணன் கிட்டுக்கு வாழ்த்துக்கள் 👍👍</td>\n",
       "      <td>Joy</td>\n",
       "    </tr>\n",
       "    <tr>\n",
       "      <th>3</th>\n",
       "      <td>Trust</td>\n",
       "      <td>ஆமா நானும் இதான் யோசித்தேன் 🤣🤣</td>\n",
       "      <td>Trust</td>\n",
       "    </tr>\n",
       "    <tr>\n",
       "      <th>4</th>\n",
       "      <td>Anticipation</td>\n",
       "      <td>மொத்த மக்களும் ஒன்னு சேர்ந்தாதான் இந்த அரசாங்க...</td>\n",
       "      <td>Trust</td>\n",
       "    </tr>\n",
       "  </tbody>\n",
       "</table>\n",
       "</div>"
      ],
      "text/plain": [
       "              0                                                  1  \\\n",
       "0           Joy  அருமை அற்புதம் பிரமாதம் நண்பரே வாழ்த்துக்கள் ந...   \n",
       "1  Anticipation                     வேல்ராஜ் வேலையா தான் இருக்கும்   \n",
       "2           Joy                 அண்ணன் கிட்டுக்கு வாழ்த்துக்கள் 👍👍   \n",
       "3         Trust                     ஆமா நானும் இதான் யோசித்தேன் 🤣🤣   \n",
       "4  Anticipation  மொத்த மக்களும் ஒன்னு சேர்ந்தாதான் இந்த அரசாங்க...   \n",
       "\n",
       "  predicted_emotion  \n",
       "0               Joy  \n",
       "1           Neutral  \n",
       "2               Joy  \n",
       "3             Trust  \n",
       "4             Trust  "
      ]
     },
     "execution_count": 10,
     "metadata": {},
     "output_type": "execute_result"
    }
   ],
   "source": [
    "import pandas as pd\n",
    "import numpy as np\n",
    "from tensorflow.keras.models import Sequential, load_model\n",
    "from tensorflow.keras.layers import Embedding, LSTM, Dense\n",
    "from tensorflow.keras.preprocessing.text import Tokenizer\n",
    "from tensorflow.keras.preprocessing.sequence import pad_sequences\n",
    "from sklearn.preprocessing import LabelEncoder\n",
    "from sklearn.model_selection import train_test_split\n",
    "\n",
    "# Load training data\n",
    "train_data = pd.read_csv('/kaggle/input/mydata2/ta-emotion10-trainset.csv',header=None,sep=\"\\t\")  # Update with your training data path\n",
    "\n",
    "# Preprocess training data\n",
    "texts = train_data[1]\n",
    "labels = train_data[0]\n",
    "\n",
    "# Tokenizing\n",
    "tokenizer = Tokenizer()\n",
    "tokenizer.fit_on_texts(texts)\n",
    "sequences = tokenizer.texts_to_sequences(texts)\n",
    "X_train = pad_sequences(sequences)\n",
    "\n",
    "# Encode the labels\n",
    "label_encoder = LabelEncoder()\n",
    "y_train = label_encoder.fit_transform(labels)  # Fit encoder only on training data\n",
    "\n",
    "# Build the LSTM model\n",
    "model = Sequential()\n",
    "model.add(Embedding(input_dim=len(tokenizer.word_index) + 1, output_dim=128, input_length=X_train.shape[1]))\n",
    "model.add(LSTM(128))\n",
    "model.add(Dense(len(np.unique(y_train)), activation='softmax'))\n",
    "\n",
    "# Compile and train the model\n",
    "model.compile(loss='sparse_categorical_crossentropy', optimizer='adam', metrics=['accuracy'])\n",
    "model.fit(X_train, y_train, epochs=30, batch_size=32, validation_split=0.2)\n",
    "\n",
    "# Save the model and tokenizer\n",
    "model.save('your_model.h5')\n",
    "import joblib\n",
    "joblib.dump(tokenizer, 'tokenizer.pkl')\n",
    "joblib.dump(label_encoder, 'label_encoder.pkl')\n",
    "\n",
    "# Load the test data\n",
    "test_data = pd.read_csv('/kaggle/input/mydata2/ta-emotion10_test.csv',header=None,sep=\"\\t\")  # Update with your test data path\n",
    "test_texts = test_data[1]\n",
    "\n",
    "# Load the saved tokenizer and label encoder\n",
    "import joblib\n",
    "tokenizer = joblib.load('tokenizer.pkl')\n",
    "label_encoder = joblib.load('label_encoder.pkl')\n",
    "\n",
    "# Preprocess the test data similarly\n",
    "test_sequences = tokenizer.texts_to_sequences(test_texts)\n",
    "X_test = pad_sequences(test_sequences, maxlen=X_train.shape[1])  # Use the same length as training\n",
    "\n",
    "# Make predictions on the test set\n",
    "predictions = model.predict(X_test)\n",
    "\n",
    "# Convert probabilities to class labels\n",
    "predicted_classes = np.argmax(predictions, axis=1)\n",
    "\n",
    "# Convert class indices back to original labels\n",
    "test_data['predicted_emotion'] = label_encoder.inverse_transform(predicted_classes)\n",
    "\n",
    "# Save or display the test results\n",
    "print(test_data[[1, 'predicted_emotion']])\n",
    "\n",
    "# Optionally, save the results to a new CSV\n",
    "test_data.to_csv('predicted_test_data.csv', index=False)\n",
    "test_data.head()"
   ]
  },
  {
   "cell_type": "code",
   "execution_count": 11,
   "metadata": {
    "execution": {
     "iopub.execute_input": "2024-10-24T09:58:04.832243Z",
     "iopub.status.busy": "2024-10-24T09:58:04.831625Z",
     "iopub.status.idle": "2024-10-24T09:58:04.842849Z",
     "shell.execute_reply": "2024-10-24T09:58:04.841906Z",
     "shell.execute_reply.started": "2024-10-24T09:58:04.832208Z"
    },
    "trusted": true
   },
   "outputs": [
    {
     "name": "stdout",
     "output_type": "stream",
     "text": [
      "Inference accuracy score: 0.29\n"
     ]
    }
   ],
   "source": [
    "accuracy = accuracy_score(test_data[0], test_data['predicted_emotion'])\n",
    "\n",
    "print(f'Inference accuracy score: {accuracy:.2f}')"
   ]
  },
  {
   "cell_type": "code",
   "execution_count": 16,
   "metadata": {
    "execution": {
     "iopub.execute_input": "2024-10-24T10:10:22.559017Z",
     "iopub.status.busy": "2024-10-24T10:10:22.558326Z",
     "iopub.status.idle": "2024-10-24T10:14:08.396998Z",
     "shell.execute_reply": "2024-10-24T10:14:08.395825Z",
     "shell.execute_reply.started": "2024-10-24T10:10:22.558977Z"
    },
    "scrolled": true,
    "trusted": true
   },
   "outputs": [
    {
     "name": "stdout",
     "output_type": "stream",
     "text": [
      "Epoch 1/50\n"
     ]
    },
    {
     "name": "stderr",
     "output_type": "stream",
     "text": [
      "/opt/conda/lib/python3.10/site-packages/keras/src/layers/core/embedding.py:90: UserWarning: Argument `input_length` is deprecated. Just remove it.\n",
      "  warnings.warn(\n"
     ]
    },
    {
     "name": "stdout",
     "output_type": "stream",
     "text": [
      "\u001b[1m356/356\u001b[0m \u001b[32m━━━━━━━━━━━━━━━━━━━━\u001b[0m\u001b[37m\u001b[0m \u001b[1m10s\u001b[0m 14ms/step - accuracy: 0.1496 - loss: 2.7436 - val_accuracy: 0.3498 - val_loss: 2.0286\n",
      "Epoch 2/50\n",
      "\u001b[1m356/356\u001b[0m \u001b[32m━━━━━━━━━━━━━━━━━━━━\u001b[0m\u001b[37m\u001b[0m \u001b[1m4s\u001b[0m 12ms/step - accuracy: 0.3079 - loss: 2.1365 - val_accuracy: 0.3498 - val_loss: 2.0234\n",
      "Epoch 3/50\n",
      "\u001b[1m356/356\u001b[0m \u001b[32m━━━━━━━━━━━━━━━━━━━━\u001b[0m\u001b[37m\u001b[0m \u001b[1m4s\u001b[0m 12ms/step - accuracy: 0.3333 - loss: 2.0546 - val_accuracy: 0.3498 - val_loss: 2.0242\n",
      "Epoch 4/50\n",
      "\u001b[1m356/356\u001b[0m \u001b[32m━━━━━━━━━━━━━━━━━━━━\u001b[0m\u001b[37m\u001b[0m \u001b[1m4s\u001b[0m 12ms/step - accuracy: 0.3376 - loss: 2.0352 - val_accuracy: 0.3498 - val_loss: 2.0199\n",
      "Epoch 5/50\n",
      "\u001b[1m356/356\u001b[0m \u001b[32m━━━━━━━━━━━━━━━━━━━━\u001b[0m\u001b[37m\u001b[0m \u001b[1m4s\u001b[0m 12ms/step - accuracy: 0.3453 - loss: 2.0267 - val_accuracy: 0.3498 - val_loss: 2.0203\n",
      "Epoch 6/50\n",
      "\u001b[1m356/356\u001b[0m \u001b[32m━━━━━━━━━━━━━━━━━━━━\u001b[0m\u001b[37m\u001b[0m \u001b[1m4s\u001b[0m 12ms/step - accuracy: 0.3362 - loss: 2.0372 - val_accuracy: 0.3498 - val_loss: 2.0202\n",
      "Epoch 7/50\n",
      "\u001b[1m356/356\u001b[0m \u001b[32m━━━━━━━━━━━━━━━━━━━━\u001b[0m\u001b[37m\u001b[0m \u001b[1m5s\u001b[0m 13ms/step - accuracy: 0.3383 - loss: 2.0357 - val_accuracy: 0.3498 - val_loss: 2.0201\n",
      "Epoch 8/50\n",
      "\u001b[1m356/356\u001b[0m \u001b[32m━━━━━━━━━━━━━━━━━━━━\u001b[0m\u001b[37m\u001b[0m \u001b[1m4s\u001b[0m 12ms/step - accuracy: 0.3370 - loss: 2.0296 - val_accuracy: 0.3498 - val_loss: 2.0187\n",
      "Epoch 9/50\n",
      "\u001b[1m356/356\u001b[0m \u001b[32m━━━━━━━━━━━━━━━━━━━━\u001b[0m\u001b[37m\u001b[0m \u001b[1m4s\u001b[0m 12ms/step - accuracy: 0.3352 - loss: 2.0401 - val_accuracy: 0.3498 - val_loss: 2.0199\n",
      "Epoch 10/50\n",
      "\u001b[1m356/356\u001b[0m \u001b[32m━━━━━━━━━━━━━━━━━━━━\u001b[0m\u001b[37m\u001b[0m \u001b[1m4s\u001b[0m 12ms/step - accuracy: 0.3343 - loss: 2.0372 - val_accuracy: 0.3498 - val_loss: 2.0196\n",
      "Epoch 11/50\n",
      "\u001b[1m356/356\u001b[0m \u001b[32m━━━━━━━━━━━━━━━━━━━━\u001b[0m\u001b[37m\u001b[0m \u001b[1m4s\u001b[0m 12ms/step - accuracy: 0.3410 - loss: 2.0251 - val_accuracy: 0.3498 - val_loss: 2.0225\n",
      "Epoch 12/50\n",
      "\u001b[1m356/356\u001b[0m \u001b[32m━━━━━━━━━━━━━━━━━━━━\u001b[0m\u001b[37m\u001b[0m \u001b[1m4s\u001b[0m 12ms/step - accuracy: 0.3380 - loss: 2.0261 - val_accuracy: 0.3498 - val_loss: 2.0194\n",
      "Epoch 13/50\n",
      "\u001b[1m356/356\u001b[0m \u001b[32m━━━━━━━━━━━━━━━━━━━━\u001b[0m\u001b[37m\u001b[0m \u001b[1m4s\u001b[0m 12ms/step - accuracy: 0.3402 - loss: 2.0297 - val_accuracy: 0.3498 - val_loss: 2.0244\n",
      "Epoch 14/50\n",
      "\u001b[1m356/356\u001b[0m \u001b[32m━━━━━━━━━━━━━━━━━━━━\u001b[0m\u001b[37m\u001b[0m \u001b[1m5s\u001b[0m 13ms/step - accuracy: 0.3347 - loss: 2.0335 - val_accuracy: 0.3462 - val_loss: 2.0333\n",
      "Epoch 15/50\n",
      "\u001b[1m356/356\u001b[0m \u001b[32m━━━━━━━━━━━━━━━━━━━━\u001b[0m\u001b[37m\u001b[0m \u001b[1m4s\u001b[0m 12ms/step - accuracy: 0.3394 - loss: 2.0269 - val_accuracy: 0.3498 - val_loss: 2.0240\n",
      "Epoch 16/50\n",
      "\u001b[1m356/356\u001b[0m \u001b[32m━━━━━━━━━━━━━━━━━━━━\u001b[0m\u001b[37m\u001b[0m \u001b[1m4s\u001b[0m 12ms/step - accuracy: 0.3386 - loss: 2.0331 - val_accuracy: 0.3498 - val_loss: 2.0233\n",
      "Epoch 17/50\n",
      "\u001b[1m356/356\u001b[0m \u001b[32m━━━━━━━━━━━━━━━━━━━━\u001b[0m\u001b[37m\u001b[0m \u001b[1m4s\u001b[0m 12ms/step - accuracy: 0.3387 - loss: 2.0261 - val_accuracy: 0.3498 - val_loss: 2.0337\n",
      "Epoch 18/50\n",
      "\u001b[1m356/356\u001b[0m \u001b[32m━━━━━━━━━━━━━━━━━━━━\u001b[0m\u001b[37m\u001b[0m \u001b[1m4s\u001b[0m 12ms/step - accuracy: 0.3354 - loss: 2.0395 - val_accuracy: 0.3494 - val_loss: 2.0290\n",
      "Epoch 19/50\n",
      "\u001b[1m356/356\u001b[0m \u001b[32m━━━━━━━━━━━━━━━━━━━━\u001b[0m\u001b[37m\u001b[0m \u001b[1m4s\u001b[0m 12ms/step - accuracy: 0.3377 - loss: 2.0234 - val_accuracy: 0.3498 - val_loss: 2.0343\n",
      "Epoch 20/50\n",
      "\u001b[1m356/356\u001b[0m \u001b[32m━━━━━━━━━━━━━━━━━━━━\u001b[0m\u001b[37m\u001b[0m \u001b[1m4s\u001b[0m 12ms/step - accuracy: 0.3345 - loss: 2.0229 - val_accuracy: 0.3490 - val_loss: 2.0315\n",
      "Epoch 21/50\n",
      "\u001b[1m356/356\u001b[0m \u001b[32m━━━━━━━━━━━━━━━━━━━━\u001b[0m\u001b[37m\u001b[0m \u001b[1m4s\u001b[0m 12ms/step - accuracy: 0.3417 - loss: 2.0261 - val_accuracy: 0.3494 - val_loss: 2.0674\n",
      "Epoch 22/50\n",
      "\u001b[1m356/356\u001b[0m \u001b[32m━━━━━━━━━━━━━━━━━━━━\u001b[0m\u001b[37m\u001b[0m \u001b[1m4s\u001b[0m 12ms/step - accuracy: 0.3183 - loss: 2.0815 - val_accuracy: 0.3498 - val_loss: 2.0308\n",
      "Epoch 23/50\n",
      "\u001b[1m356/356\u001b[0m \u001b[32m━━━━━━━━━━━━━━━━━━━━\u001b[0m\u001b[37m\u001b[0m \u001b[1m4s\u001b[0m 12ms/step - accuracy: 0.3419 - loss: 2.0512 - val_accuracy: 0.3483 - val_loss: 2.0241\n",
      "Epoch 24/50\n",
      "\u001b[1m356/356\u001b[0m \u001b[32m━━━━━━━━━━━━━━━━━━━━\u001b[0m\u001b[37m\u001b[0m \u001b[1m4s\u001b[0m 12ms/step - accuracy: 0.3373 - loss: 2.0387 - val_accuracy: 0.3452 - val_loss: 2.0258\n",
      "Epoch 25/50\n",
      "\u001b[1m356/356\u001b[0m \u001b[32m━━━━━━━━━━━━━━━━━━━━\u001b[0m\u001b[37m\u001b[0m \u001b[1m4s\u001b[0m 12ms/step - accuracy: 0.3405 - loss: 2.0315 - val_accuracy: 0.3480 - val_loss: 2.0242\n",
      "Epoch 26/50\n",
      "\u001b[1m356/356\u001b[0m \u001b[32m━━━━━━━━━━━━━━━━━━━━\u001b[0m\u001b[37m\u001b[0m \u001b[1m4s\u001b[0m 12ms/step - accuracy: 0.3417 - loss: 2.0304 - val_accuracy: 0.3462 - val_loss: 2.0300\n",
      "Epoch 27/50\n",
      "\u001b[1m356/356\u001b[0m \u001b[32m━━━━━━━━━━━━━━━━━━━━\u001b[0m\u001b[37m\u001b[0m \u001b[1m4s\u001b[0m 12ms/step - accuracy: 0.3475 - loss: 2.0245 - val_accuracy: 0.3483 - val_loss: 2.0306\n",
      "Epoch 28/50\n",
      "\u001b[1m356/356\u001b[0m \u001b[32m━━━━━━━━━━━━━━━━━━━━\u001b[0m\u001b[37m\u001b[0m \u001b[1m4s\u001b[0m 12ms/step - accuracy: 0.3360 - loss: 2.0238 - val_accuracy: 0.3476 - val_loss: 2.0467\n",
      "Epoch 29/50\n",
      "\u001b[1m356/356\u001b[0m \u001b[32m━━━━━━━━━━━━━━━━━━━━\u001b[0m\u001b[37m\u001b[0m \u001b[1m5s\u001b[0m 13ms/step - accuracy: 0.3296 - loss: 2.0346 - val_accuracy: 0.3431 - val_loss: 2.0487\n",
      "Epoch 30/50\n",
      "\u001b[1m356/356\u001b[0m \u001b[32m━━━━━━━━━━━━━━━━━━━━\u001b[0m\u001b[37m\u001b[0m \u001b[1m4s\u001b[0m 12ms/step - accuracy: 0.3353 - loss: 2.0216 - val_accuracy: 0.3431 - val_loss: 2.0489\n",
      "Epoch 31/50\n",
      "\u001b[1m356/356\u001b[0m \u001b[32m━━━━━━━━━━━━━━━━━━━━\u001b[0m\u001b[37m\u001b[0m \u001b[1m4s\u001b[0m 12ms/step - accuracy: 0.3385 - loss: 2.0215 - val_accuracy: 0.3441 - val_loss: 2.0503\n",
      "Epoch 32/50\n",
      "\u001b[1m356/356\u001b[0m \u001b[32m━━━━━━━━━━━━━━━━━━━━\u001b[0m\u001b[37m\u001b[0m \u001b[1m4s\u001b[0m 12ms/step - accuracy: 0.3461 - loss: 2.0127 - val_accuracy: 0.3441 - val_loss: 2.0546\n",
      "Epoch 33/50\n",
      "\u001b[1m356/356\u001b[0m \u001b[32m━━━━━━━━━━━━━━━━━━━━\u001b[0m\u001b[37m\u001b[0m \u001b[1m4s\u001b[0m 12ms/step - accuracy: 0.3390 - loss: 2.0200 - val_accuracy: 0.3466 - val_loss: 2.0470\n",
      "Epoch 34/50\n",
      "\u001b[1m356/356\u001b[0m \u001b[32m━━━━━━━━━━━━━━━━━━━━\u001b[0m\u001b[37m\u001b[0m \u001b[1m4s\u001b[0m 12ms/step - accuracy: 0.3444 - loss: 2.0135 - val_accuracy: 0.3438 - val_loss: 2.0542\n",
      "Epoch 35/50\n",
      "\u001b[1m356/356\u001b[0m \u001b[32m━━━━━━━━━━━━━━━━━━━━\u001b[0m\u001b[37m\u001b[0m \u001b[1m4s\u001b[0m 12ms/step - accuracy: 0.3373 - loss: 2.0201 - val_accuracy: 0.3476 - val_loss: 2.0604\n",
      "Epoch 36/50\n",
      "\u001b[1m356/356\u001b[0m \u001b[32m━━━━━━━━━━━━━━━━━━━━\u001b[0m\u001b[37m\u001b[0m \u001b[1m5s\u001b[0m 13ms/step - accuracy: 0.3379 - loss: 2.0209 - val_accuracy: 0.3469 - val_loss: 2.0579\n",
      "Epoch 37/50\n",
      "\u001b[1m356/356\u001b[0m \u001b[32m━━━━━━━━━━━━━━━━━━━━\u001b[0m\u001b[37m\u001b[0m \u001b[1m4s\u001b[0m 12ms/step - accuracy: 0.3365 - loss: 2.0194 - val_accuracy: 0.3434 - val_loss: 2.0628\n",
      "Epoch 38/50\n",
      "\u001b[1m356/356\u001b[0m \u001b[32m━━━━━━━━━━━━━━━━━━━━\u001b[0m\u001b[37m\u001b[0m \u001b[1m4s\u001b[0m 12ms/step - accuracy: 0.3373 - loss: 2.0260 - val_accuracy: 0.3424 - val_loss: 2.0633\n",
      "Epoch 39/50\n",
      "\u001b[1m356/356\u001b[0m \u001b[32m━━━━━━━━━━━━━━━━━━━━\u001b[0m\u001b[37m\u001b[0m \u001b[1m4s\u001b[0m 12ms/step - accuracy: 0.3420 - loss: 2.0123 - val_accuracy: 0.3452 - val_loss: 2.0607\n",
      "Epoch 40/50\n",
      "\u001b[1m356/356\u001b[0m \u001b[32m━━━━━━━━━━━━━━━━━━━━\u001b[0m\u001b[37m\u001b[0m \u001b[1m4s\u001b[0m 12ms/step - accuracy: 0.3378 - loss: 2.0153 - val_accuracy: 0.3441 - val_loss: 2.0541\n",
      "Epoch 41/50\n",
      "\u001b[1m356/356\u001b[0m \u001b[32m━━━━━━━━━━━━━━━━━━━━\u001b[0m\u001b[37m\u001b[0m \u001b[1m4s\u001b[0m 12ms/step - accuracy: 0.3346 - loss: 2.0230 - val_accuracy: 0.3452 - val_loss: 2.0699\n",
      "Epoch 42/50\n",
      "\u001b[1m356/356\u001b[0m \u001b[32m━━━━━━━━━━━━━━━━━━━━\u001b[0m\u001b[37m\u001b[0m \u001b[1m4s\u001b[0m 12ms/step - accuracy: 0.3436 - loss: 2.0120 - val_accuracy: 0.3448 - val_loss: 2.0649\n",
      "Epoch 43/50\n",
      "\u001b[1m356/356\u001b[0m \u001b[32m━━━━━━━━━━━━━━━━━━━━\u001b[0m\u001b[37m\u001b[0m \u001b[1m4s\u001b[0m 12ms/step - accuracy: 0.3433 - loss: 2.0103 - val_accuracy: 0.3476 - val_loss: 2.0706\n",
      "Epoch 44/50\n",
      "\u001b[1m356/356\u001b[0m \u001b[32m━━━━━━━━━━━━━━━━━━━━\u001b[0m\u001b[37m\u001b[0m \u001b[1m4s\u001b[0m 13ms/step - accuracy: 0.3377 - loss: 2.0184 - val_accuracy: 0.3469 - val_loss: 2.0635\n",
      "Epoch 45/50\n",
      "\u001b[1m356/356\u001b[0m \u001b[32m━━━━━━━━━━━━━━━━━━━━\u001b[0m\u001b[37m\u001b[0m \u001b[1m4s\u001b[0m 12ms/step - accuracy: 0.3348 - loss: 2.0302 - val_accuracy: 0.3473 - val_loss: 2.0641\n",
      "Epoch 46/50\n",
      "\u001b[1m356/356\u001b[0m \u001b[32m━━━━━━━━━━━━━━━━━━━━\u001b[0m\u001b[37m\u001b[0m \u001b[1m4s\u001b[0m 12ms/step - accuracy: 0.3433 - loss: 2.0101 - val_accuracy: 0.3480 - val_loss: 2.0641\n",
      "Epoch 47/50\n",
      "\u001b[1m356/356\u001b[0m \u001b[32m━━━━━━━━━━━━━━━━━━━━\u001b[0m\u001b[37m\u001b[0m \u001b[1m4s\u001b[0m 12ms/step - accuracy: 0.3370 - loss: 2.0224 - val_accuracy: 0.3459 - val_loss: 2.0726\n",
      "Epoch 48/50\n",
      "\u001b[1m356/356\u001b[0m \u001b[32m━━━━━━━━━━━━━━━━━━━━\u001b[0m\u001b[37m\u001b[0m \u001b[1m4s\u001b[0m 12ms/step - accuracy: 0.3414 - loss: 2.0129 - val_accuracy: 0.3459 - val_loss: 2.0729\n",
      "Epoch 49/50\n",
      "\u001b[1m356/356\u001b[0m \u001b[32m━━━━━━━━━━━━━━━━━━━━\u001b[0m\u001b[37m\u001b[0m \u001b[1m4s\u001b[0m 12ms/step - accuracy: 0.3420 - loss: 2.0174 - val_accuracy: 0.3483 - val_loss: 2.0688\n",
      "Epoch 50/50\n",
      "\u001b[1m356/356\u001b[0m \u001b[32m━━━━━━━━━━━━━━━━━━━━\u001b[0m\u001b[37m\u001b[0m \u001b[1m4s\u001b[0m 12ms/step - accuracy: 0.3374 - loss: 2.0231 - val_accuracy: 0.3473 - val_loss: 2.0606\n",
      "\u001b[1m111/111\u001b[0m \u001b[32m━━━━━━━━━━━━━━━━━━━━\u001b[0m\u001b[37m\u001b[0m \u001b[1m1s\u001b[0m 4ms/step\n",
      "Inference accuracy score: 0.34\n"
     ]
    }
   ],
   "source": [
    "import pandas as pd\n",
    "import numpy as np\n",
    "from tensorflow.keras.models import Sequential\n",
    "from tensorflow.keras.layers import Embedding, LSTM, Bidirectional, Dense, Dropout, BatchNormalization\n",
    "from tensorflow.keras.preprocessing.text import Tokenizer\n",
    "from tensorflow.keras.preprocessing.sequence import pad_sequences\n",
    "from sklearn.preprocessing import LabelEncoder\n",
    "from sklearn.model_selection import train_test_split\n",
    "from sklearn.metrics import accuracy_score\n",
    "import joblib\n",
    "\n",
    "# Load and preprocess the training data\n",
    "train_data = pd.read_csv('/kaggle/input/mydata2/ta-emotion10-trainset.csv', header=None, sep=\"\\t\")\n",
    "texts = train_data[1].apply(lambda x: x.encode('ascii', 'ignore').decode('ascii'))  # Clean text\n",
    "labels = train_data[0]\n",
    "\n",
    "# Tokenizing\n",
    "tokenizer = Tokenizer()\n",
    "tokenizer.fit_on_texts(texts)\n",
    "sequences = tokenizer.texts_to_sequences(texts)\n",
    "X_train = pad_sequences(sequences)\n",
    "\n",
    "# Encode the labels\n",
    "label_encoder = LabelEncoder()\n",
    "y_train = label_encoder.fit_transform(labels)\n",
    "\n",
    "# Build the improved LSTM model\n",
    "model = Sequential()\n",
    "model.add(Embedding(input_dim=len(tokenizer.word_index) + 1, output_dim=128, input_length=X_train.shape[1]))\n",
    "model.add(Bidirectional(LSTM(128, return_sequences=True)))\n",
    "model.add(Dropout(0.5))\n",
    "model.add(BatchNormalization())\n",
    "model.add(Bidirectional(LSTM(64)))\n",
    "model.add(Dropout(0.5))\n",
    "model.add(BatchNormalization())\n",
    "model.add(Dense(len(np.unique(y_train)), activation='softmax'))\n",
    "\n",
    "# Compile and train the model\n",
    "model.compile(loss='sparse_categorical_crossentropy', optimizer='adam', metrics=['accuracy'])\n",
    "history=model.fit(X_train, y_train, epochs=50, batch_size=32, validation_split=0.2)\n",
    "\n",
    "# Save the model and tokenizer\n",
    "model.save('your_model.h5')\n",
    "joblib.dump(tokenizer, 'tokenizer.pkl')\n",
    "joblib.dump(label_encoder, 'label_encoder.pkl')\n",
    "\n",
    "# Load and preprocess the test data\n",
    "test_data = pd.read_csv('/kaggle/input/mydata2/ta-emotion10_test.csv', header=None, sep=\"\\t\")\n",
    "test_texts = test_data[1].apply(lambda x: x.encode('ascii', 'ignore').decode('ascii'))  # Clean text\n",
    "test_sequences = tokenizer.texts_to_sequences(test_texts)\n",
    "X_test = pad_sequences(test_sequences, maxlen=X_train.shape[1])\n",
    "\n",
    "# Make predictions on the test set\n",
    "predictions = model.predict(X_test)\n",
    "predicted_classes = np.argmax(predictions, axis=1)\n",
    "test_data['predicted_emotion'] = label_encoder.inverse_transform(predicted_classes)\n",
    "\n",
    "# Save the results\n",
    "test_data.to_csv('predicted_test_data.csv', index=False)\n",
    "\n",
    "# Evaluate accuracy\n",
    "accuracy = accuracy_score(test_data[0], test_data['predicted_emotion'])\n",
    "print(f'Inference accuracy score: {accuracy:.2f}')"
   ]
  },
  {
   "cell_type": "code",
   "execution_count": 18,
   "metadata": {
    "execution": {
     "iopub.execute_input": "2024-10-24T10:14:28.327615Z",
     "iopub.status.busy": "2024-10-24T10:14:28.327021Z",
     "iopub.status.idle": "2024-10-24T10:14:29.573438Z",
     "shell.execute_reply": "2024-10-24T10:14:29.572458Z",
     "shell.execute_reply.started": "2024-10-24T10:14:28.327565Z"
    },
    "trusted": true
   },
   "outputs": [
    {
     "data": {
      "image/png": "[encoded data removed]",
      "text/plain": [
       "<Figure size 1200x500 with 2 Axes>"
      ]
     },
     "metadata": {},
     "output_type": "display_data"
    },
    {
     "data": {
      "image/png": "[encoded data removed]",
      "text/plain": [
       "<Figure size 1000x800 with 2 Axes>"
      ]
     },
     "metadata": {},
     "output_type": "display_data"
    },
    {
     "name": "stdout",
     "output_type": "stream",
     "text": [
      "              precision    recall  f1-score   support\n",
      "\n",
      "   Ambiguous       0.17      0.00      0.01       437\n",
      "       Anger       0.00      0.00      0.00       184\n",
      "Anticipation       0.33      0.00      0.01       213\n",
      "    Disguist       0.00      0.00      0.00       210\n",
      "        Fear       0.00      0.00      0.00        23\n",
      "         Joy       0.00      0.00      0.00       558\n",
      "        Love       0.00      0.00      0.00       189\n",
      "     Neutral       0.34      0.99      0.51      1222\n",
      "     Sadness       0.00      0.00      0.00       191\n",
      "    Surprise       0.00      0.00      0.00        53\n",
      "       Trust       0.00      0.00      0.00       272\n",
      "\n",
      "    accuracy                           0.34      3552\n",
      "   macro avg       0.08      0.09      0.05      3552\n",
      "weighted avg       0.16      0.34      0.18      3552\n",
      "\n"
     ]
    },
    {
     "name": "stderr",
     "output_type": "stream",
     "text": [
      "/opt/conda/lib/python3.10/site-packages/sklearn/metrics/_classification.py:1344: UndefinedMetricWarning: Precision and F-score are ill-defined and being set to 0.0 in labels with no predicted samples. Use `zero_division` parameter to control this behavior.\n",
      "  _warn_prf(average, modifier, msg_start, len(result))\n",
      "/opt/conda/lib/python3.10/site-packages/sklearn/metrics/_classification.py:1344: UndefinedMetricWarning: Precision and F-score are ill-defined and being set to 0.0 in labels with no predicted samples. Use `zero_division` parameter to control this behavior.\n",
      "  _warn_prf(average, modifier, msg_start, len(result))\n",
      "/opt/conda/lib/python3.10/site-packages/sklearn/metrics/_classification.py:1344: UndefinedMetricWarning: Precision and F-score are ill-defined and being set to 0.0 in labels with no predicted samples. Use `zero_division` parameter to control this behavior.\n",
      "  _warn_prf(average, modifier, msg_start, len(result))\n"
     ]
    }
   ],
   "source": [
    "# Plotting Training and Validation Accuracy and Loss\n",
    "# history = model.history  # Assuming you have saved the history during training\n",
    "from sklearn.metrics import confusion_matrix, classification_report\n",
    "# Plot accuracy\n",
    "plt.figure(figsize=(12, 5))\n",
    "plt.subplot(1, 2, 1)\n",
    "plt.plot(history.history['accuracy'], label='Train Accuracy')\n",
    "plt.plot(history.history['val_accuracy'], label='Validation Accuracy')\n",
    "plt.title('Model Accuracy')\n",
    "plt.ylabel('Accuracy')\n",
    "plt.xlabel('Epoch')\n",
    "plt.legend(loc='upper left')\n",
    "\n",
    "# Plot loss\n",
    "plt.subplot(1, 2, 2)\n",
    "plt.plot(history.history['loss'], label='Train Loss')\n",
    "plt.plot(history.history['val_loss'], label='Validation Loss')\n",
    "plt.title('Model Loss')\n",
    "plt.ylabel('Loss')\n",
    "plt.xlabel('Epoch')\n",
    "plt.legend(loc='upper left')\n",
    "\n",
    "plt.tight_layout()\n",
    "plt.show()\n",
    "\n",
    "# Confusion Matrix\n",
    "cm = confusion_matrix(test_data[0], test_data['predicted_emotion'])\n",
    "plt.figure(figsize=(10, 8))\n",
    "sns.heatmap(cm, annot=True, fmt='d', cmap='Blues', xticklabels=label_encoder.classes_, yticklabels=label_encoder.classes_)\n",
    "plt.title('Confusion Matrix')\n",
    "plt.xlabel('Predicted Emotion')\n",
    "plt.ylabel('True Emotion')\n",
    "plt.show()\n",
    "\n",
    "# Classification Report\n",
    "report = classification_report(test_data[0], test_data['predicted_emotion'], target_names=label_encoder.classes_)\n",
    "print(report)"
   ]
  },
  {
   "cell_type": "code",
   "execution_count": 15,
   "metadata": {
    "execution": {
     "iopub.execute_input": "2024-10-24T10:09:43.353716Z",
     "iopub.status.busy": "2024-10-24T10:09:43.353203Z",
     "iopub.status.idle": "2024-10-24T10:09:43.359422Z",
     "shell.execute_reply": "2024-10-24T10:09:43.358372Z",
     "shell.execute_reply.started": "2024-10-24T10:09:43.353665Z"
    },
    "trusted": true
   },
   "outputs": [
    {
     "name": "stdout",
     "output_type": "stream",
     "text": [
      "dict_keys([])\n"
     ]
    }
   ],
   "source": [
    "print(history.history.keys())"
   ]
  },
  {
   "cell_type": "code",
   "execution_count": null,
   "metadata": {},
   "outputs": [],
   "source": []
  }
 ],
 "metadata": {
  "kaggle": {
   "accelerator": "gpu",
   "dataSources": [
    {
     "datasetId": 5835029,
     "sourceId": 9572542,
     "sourceType": "datasetVersion"
    }
   ],
   "dockerImageVersionId": 30787,
   "isGpuEnabled": true,
   "isInternetEnabled": true,
   "language": "python",
   "sourceType": "notebook"
  },
  "kernelspec": {
   "display_name": "Python 3",
   "language": "python",
   "name": "python3"
  },
  "language_info": {
   "codemirror_mode": {
    "name": "ipython",
    "version": 3
   },
   "file_extension": ".py",
   "mimetype": "text/x-python",
   "name": "python",
   "nbconvert_exporter": "python",
   "pygments_lexer": "ipython3",
   "version": "3.10.14"
  }
 },
 "nbformat": 4,
 "nbformat_minor": 4
}
