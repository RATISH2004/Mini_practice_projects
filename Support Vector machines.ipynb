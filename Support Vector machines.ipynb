{
 "cells": [
  {
   "cell_type": "code",
   "execution_count": 25,
   "id": "8745213f",
   "metadata": {},
   "outputs": [],
   "source": [
    "import matplotlib.pyplot as plt\n",
    "import numpy as np\n",
    "from sklearn import svm"
   ]
  },
  {
   "cell_type": "code",
   "execution_count": 26,
   "id": "e3c7f1f7",
   "metadata": {},
   "outputs": [],
   "source": [
    "X = np.array([1, 5, 1.5, 8, 1, 9, 7, 8.7, 2.3, 5.5, 7.7, 6.1])\n",
    "y = np.array([2, 8, 1.8, 8, 0.6, 11, 10, 9.4, 4, 3, 8.8, 7.5])"
   ]
  },
  {
   "cell_type": "code",
   "execution_count": 27,
   "id": "a56d2743",
   "metadata": {},
   "outputs": [
    {
     "data": {
      "image/png": "[encoded data removed]",
      "text/plain": [
       "<Figure size 432x288 with 1 Axes>"
      ]
     },
     "metadata": {
      "needs_background": "light"
     },
     "output_type": "display_data"
    }
   ],
   "source": [
    "plt.scatter(X, y)\n",
    "plt.show()\n"
   ]
  },
  {
   "cell_type": "code",
   "execution_count": 28,
   "id": "0df333b9",
   "metadata": {},
   "outputs": [],
   "source": [
    "training_X = np.vstack((X, y)).T\n",
    "training_y = [0, 1, 0, 1, 0, 1, 1, 1, 0, 0, 1, 1]"
   ]
  },
  {
   "cell_type": "code",
   "execution_count": 29,
   "id": "43ab28a3",
   "metadata": {},
   "outputs": [],
   "source": [
    "# define the model\n",
    "clf = svm.SVC(kernel='linear', C=1.0)"
   ]
  },
  {
   "cell_type": "code",
   "execution_count": 30,
   "id": "3261e6c1",
   "metadata": {},
   "outputs": [
    {
     "data": {
      "text/plain": [
       "SVC(kernel='linear')"
      ]
     },
     "execution_count": 30,
     "metadata": {},
     "output_type": "execute_result"
    }
   ],
   "source": [
    "# train the model\n",
    "clf.fit(training_X, training_y)"
   ]
  },
  {
   "cell_type": "code",
   "execution_count": 31,
   "id": "a3a8f9ec",
   "metadata": {},
   "outputs": [
    {
     "name": "stdout",
     "output_type": "stream",
     "text": [
      "Support Vectors:\n",
      "[[2.3 4. ]\n",
      " [5.5 3. ]\n",
      " [6.1 7.5]]\n"
     ]
    }
   ],
   "source": [
    "print(\"Support Vectors:\")\n",
    "print(clf.support_vectors_)\n"
   ]
  },
  {
   "cell_type": "code",
   "execution_count": null,
   "id": "fdb06c91",
   "metadata": {},
   "outputs": [],
   "source": []
  },
  {
   "cell_type": "code",
   "execution_count": null,
   "id": "ffb66cb8",
   "metadata": {},
   "outputs": [],
   "source": []
  },
  {
   "cell_type": "code",
   "execution_count": 32,
   "id": "9d77a147",
   "metadata": {},
   "outputs": [
    {
     "name": "stderr",
     "output_type": "stream",
     "text": [
      "No handles with labels found to put in legend.\n"
     ]
    },
    {
     "data": {
      "image/png": "[encoded data removed]",
      "text/plain": [
       "<Figure size 432x288 with 1 Axes>"
      ]
     },
     "metadata": {
      "needs_background": "light"
     },
     "output_type": "display_data"
    }
   ],
   "source": [
    "# get the weight values for the linear equation from the trained SVM model\n",
    "w = clf.coef_[0]\n",
    "\n",
    "# get the y-offset for the linear equation\n",
    "a = -w[0] / w[1]\n",
    "\n",
    "# make the x-axis space for the data points\n",
    "XX = np.linspace(0, 13)\n",
    "\n",
    "# get the y-values to plot the decision boundary\n",
    "yy = a * XX - clf.intercept_[0] / w[1]\n",
    "\n",
    "# plot the decision boundary\n",
    "plt.plot(XX, yy, 'k-')\n",
    "\n",
    "# show the plot visually\n",
    "plt.scatter(training_X[:, 0], training_X[:, 1], c=training_y)\n",
    "plt.legend()\n",
    "plt.show()"
   ]
  },
  {
   "cell_type": "code",
   "execution_count": 33,
   "id": "b1b84f70",
   "metadata": {},
   "outputs": [
    {
     "name": "stdout",
     "output_type": "stream",
     "text": [
      "Best value of C: 0.01\n"
     ]
    }
   ],
   "source": [
    "from sklearn.model_selection import GridSearchCV\n",
    "\n",
    "# Define the parameter grid\n",
    "param_grid = {'C': [0.001, 0.01, 0.1, 1, 5, 10, 100]}\n",
    "\n",
    "# Perform grid search\n",
    "grid_search = GridSearchCV(svm.SVC(kernel='linear'), param_grid, cv=5)\n",
    "grid_search.fit(training_X, training_y)\n",
    "\n",
    "# Get the best value of C\n",
    "best_C = grid_search.best_params_['C']\n",
    "print(\"Best value of C:\", best_C)\n"
   ]
  },
  {
   "cell_type": "code",
   "execution_count": 34,
   "id": "2ee141fe",
   "metadata": {},
   "outputs": [
    {
     "data": {
      "text/plain": [
       "SVC(C=0.1, kernel='linear')"
      ]
     },
     "execution_count": 34,
     "metadata": {},
     "output_type": "execute_result"
    }
   ],
   "source": [
    "# Redefine the model with a lower value of C\n",
    "clf_low_C = svm.SVC(kernel='linear', C=0.1)\n",
    "\n",
    "# Fit the model to the training data with the reduced cost parameter\n",
    "clf_low_C.fit(training_X, training_y)\n"
   ]
  },
  {
   "cell_type": "code",
   "execution_count": 35,
   "id": "c8af3a1b",
   "metadata": {},
   "outputs": [
    {
     "name": "stderr",
     "output_type": "stream",
     "text": [
      "No handles with labels found to put in legend.\n"
     ]
    },
    {
     "data": {
      "text/plain": [
       "<matplotlib.legend.Legend at 0x1d4d69af320>"
      ]
     },
     "execution_count": 35,
     "metadata": {},
     "output_type": "execute_result"
    },
    {
     "data": {
      "image/png": "[encoded data removed]",
      "text/plain": [
       "<Figure size 432x288 with 1 Axes>"
      ]
     },
     "metadata": {
      "needs_background": "light"
     },
     "output_type": "display_data"
    }
   ],
   "source": [
    "# get the weight values for the linear equation from the trained SVM model\n",
    "w = clf_low_C.coef_[0]\n",
    "\n",
    "# get the y-offset for the linear equation\n",
    "a = -w[0] / w[1]\n",
    "\n",
    "# make the x-axis space for the data points\n",
    "XX = np.linspace(0, 13)\n",
    "\n",
    "# get the y-values to plot the decision boundary\n",
    "yy = a * XX - clf_low_C.intercept_[0] / w[1]\n",
    "\n",
    "# plot the decision boundary\n",
    "plt.plot(XX, yy, 'k-')\n",
    "\n",
    "# show the plot visually\n",
    "plt.scatter(training_X[:, 0], training_X[:, 1], c=training_y)\n",
    "plt.legend()"
   ]
  },
  {
   "cell_type": "code",
   "execution_count": 14,
   "id": "ed5832e2",
   "metadata": {},
   "outputs": [
    {
     "name": "stdout",
     "output_type": "stream",
     "text": [
      "Cross-validation errors for each value of C:\n",
      "[0.56666667 1.         1.         1.         1.         1.\n",
      " 1.        ]\n"
     ]
    }
   ],
   "source": [
    "# Access the cross-validation errors for each value of C\n",
    "cv_errors = grid_search.cv_results_['mean_test_score']\n",
    "print(\"Cross-validation errors for each value of C:\")\n",
    "print(cv_errors)\n"
   ]
  },
  {
   "cell_type": "code",
   "execution_count": null,
   "id": "8a4f3ed9",
   "metadata": {},
   "outputs": [],
   "source": []
  },
  {
   "cell_type": "code",
   "execution_count": null,
   "id": "1d520cc1",
   "metadata": {},
   "outputs": [],
   "source": []
  },
  {
   "cell_type": "code",
   "execution_count": 38,
   "id": "3feda7f4",
   "metadata": {},
   "outputs": [
    {
     "name": "stdout",
     "output_type": "stream",
     "text": [
      "Test data set:\n",
      "[[0.99166207 5.9697465 ]\n",
      " [5.14745042 6.73638262]\n",
      " [6.52926989 3.0696862 ]\n",
      " [3.99528074 5.48113235]\n",
      " [5.38027772 2.9561496 ]\n",
      " [7.48293028 4.55843384]\n",
      " [1.58154552 5.79192716]\n",
      " [6.27993051 5.82497559]\n",
      " [1.78635301 0.83369763]\n",
      " [3.45196835 6.47760502]\n",
      " [8.70199306 3.54418805]\n",
      " [0.59787896 7.91508664]\n",
      " [3.73201558 8.09801387]\n",
      " [2.32241939 3.65287792]\n",
      " [6.52929063 7.90467539]\n",
      " [8.25977771 3.15008252]\n",
      " [0.46501828 3.49762596]\n",
      " [4.68832    1.62391973]\n",
      " [9.12142888 6.43308533]\n",
      " [8.40000125 5.08715768]]\n"
     ]
    }
   ],
   "source": [
    "# Generate a test data set of 20 points\n",
    "test_X = np.random.rand(20, 2) * 10\n",
    "print(\"Test data set:\")\n",
    "print(test_X)\n"
   ]
  },
  {
   "cell_type": "code",
   "execution_count": 39,
   "id": "cda42f5c",
   "metadata": {},
   "outputs": [
    {
     "name": "stdout",
     "output_type": "stream",
     "text": [
      "Number of points classified properly: 8\n"
     ]
    }
   ],
   "source": [
    "# Predict the class labels for the test points\n",
    "predicted_labels = clf.predict(test_X)\n",
    "\n",
    "# Count the number of points classified properly\n",
    "correctly_classified = np.sum(predicted_labels == 1)  # Assuming class 1 is the positive class\n",
    "print(\"Number of points classified properly:\", correctly_classified)\n"
   ]
  },
  {
   "cell_type": "code",
   "execution_count": 40,
   "id": "fa43a0ef",
   "metadata": {},
   "outputs": [
    {
     "name": "stdout",
     "output_type": "stream",
     "text": [
      "Number of support vectors: 3\n"
     ]
    }
   ],
   "source": [
    "# Print the number of support vectors\n",
    "print(\"Number of support vectors:\", np.sum(clf.n_support_))\n"
   ]
  },
  {
   "cell_type": "code",
   "execution_count": null,
   "id": "7093bd17",
   "metadata": {},
   "outputs": [],
   "source": [
    "\n"
   ]
  },
  {
   "cell_type": "code",
   "execution_count": null,
   "id": "9500425c",
   "metadata": {},
   "outputs": [],
   "source": []
  }
 ],
 "metadata": {
  "kernelspec": {
   "display_name": "Python 3",
   "language": "python",
   "name": "python3"
  },
  "language_info": {
   "codemirror_mode": {
    "name": "ipython",
    "version": 3
   },
   "file_extension": ".py",
   "mimetype": "text/x-python",
   "name": "python",
   "nbconvert_exporter": "python",
   "pygments_lexer": "ipython3",
   "version": "3.6.13"
  }
 },
 "nbformat": 4,
 "nbformat_minor": 5
}
