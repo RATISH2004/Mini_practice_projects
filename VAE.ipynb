{
 "cells": [
  {
   "cell_type": "markdown",
   "metadata": {
    "jp-MarkdownHeadingCollapsed": true
   },
   "source": [
    "# Variational Auto-Encoder\n"
   ]
  },
  {
   "cell_type": "markdown",
   "metadata": {},
   "source": [
    "## Import Libraries"
   ]
  },
  {
   "cell_type": "code",
   "execution_count": 13,
   "metadata": {},
   "outputs": [],
   "source": [
    "import numpy as np\n",
    "import matplotlib.pyplot as plt\n",
    "import tensorflow as tf\n",
    "from tensorflow.keras import layers, models\n",
    "from tensorflow.keras.datasets import fashion_mnist\n",
    "from tensorflow.keras.callbacks import ModelCheckpoint, EarlyStopping, ModelCheckpoint\n",
    "from tensorflow.keras.preprocessing.image import ImageDataGenerator"
   ]
  },
  {
   "cell_type": "markdown",
   "metadata": {},
   "source": [
    "## Load and Preprocess Data"
   ]
  },
  {
   "cell_type": "code",
   "execution_count": 2,
   "metadata": {},
   "outputs": [],
   "source": [
    "def load_and_preprocess_data():\n",
    "    (x_train, _), (x_test, _) = fashion_mnist.load_data()\n",
    "    x_train = np.reshape(x_train, (len(x_train), 28, 28, 1)).astype('float32') / 255.0\n",
    "    x_test = np.reshape(x_test, (len(x_test), 28, 28, 1)).astype('float32') / 255.0\n",
    "    return x_train, x_test\n",
    "\n",
    "x_train, x_test = load_and_preprocess_data()"
   ]
  },
  {
   "cell_type": "markdown",
   "metadata": {},
   "source": [
    "## Visualization"
   ]
  },
  {
   "cell_type": "code",
   "execution_count": 3,
   "metadata": {},
   "outputs": [
    {
     "data": {
      "image/png": "[encoded data removed]",
      "text/plain": [
       "<Figure size 1000x200 with 5 Axes>"
      ]
     },
     "metadata": {},
     "output_type": "display_data"
    }
   ],
   "source": [
    "def display_sample_images(x_train, num_images=5):\n",
    "    plt.figure(figsize=(10, 2))\n",
    "    for i in range(num_images):\n",
    "        plt.subplot(1, num_images, i + 1)\n",
    "        plt.imshow(x_train[i].reshape(28, 28), cmap='gray')\n",
    "        plt.axis('off')\n",
    "    plt.show()\n",
    "\n",
    "display_sample_images(x_train, 5)"
   ]
  },
  {
   "cell_type": "markdown",
   "metadata": {},
   "source": [
    "## Define Latent Space as a Distribution"
   ]
  },
  {
   "cell_type": "code",
   "execution_count": 4,
   "metadata": {},
   "outputs": [
    {
     "name": "stdout",
     "output_type": "stream",
     "text": [
      "Model: \"encoder\"\n",
      "__________________________________________________________________________________________________\n",
      " Layer (type)                   Output Shape         Param #     Connected to                     \n",
      "==================================================================================================\n",
      " input_1 (InputLayer)           [(None, 28, 28, 1)]  0           []                               \n",
      "                                                                                                  \n",
      " conv2d (Conv2D)                (None, 28, 28, 32)   320         ['input_1[0][0]']                \n",
      "                                                                                                  \n",
      " max_pooling2d (MaxPooling2D)   (None, 14, 14, 32)   0           ['conv2d[0][0]']                 \n",
      "                                                                                                  \n",
      " conv2d_1 (Conv2D)              (None, 14, 14, 64)   18496       ['max_pooling2d[0][0]']          \n",
      "                                                                                                  \n",
      " max_pooling2d_1 (MaxPooling2D)  (None, 7, 7, 64)    0           ['conv2d_1[0][0]']               \n",
      "                                                                                                  \n",
      " flatten (Flatten)              (None, 3136)         0           ['max_pooling2d_1[0][0]']        \n",
      "                                                                                                  \n",
      " dense (Dense)                  (None, 128)          401536      ['flatten[0][0]']                \n",
      "                                                                                                  \n",
      " z_mean (Dense)                 (None, 64)           8256        ['dense[0][0]']                  \n",
      "                                                                                                  \n",
      " z_log_var (Dense)              (None, 64)           8256        ['dense[0][0]']                  \n",
      "                                                                                                  \n",
      "==================================================================================================\n",
      "Total params: 436,864\n",
      "Trainable params: 436,864\n",
      "Non-trainable params: 0\n",
      "__________________________________________________________________________________________________\n"
     ]
    }
   ],
   "source": [
    "def create_encoder(latent_dim):\n",
    "    encoder_inputs = layers.Input(shape=(28, 28, 1))\n",
    "    x = layers.Conv2D(32, 3, activation='relu', padding='same')(encoder_inputs)\n",
    "    x = layers.MaxPooling2D()(x)\n",
    "    x = layers.Conv2D(64, 3, activation='relu', padding='same')(x)\n",
    "    x = layers.MaxPooling2D()(x)\n",
    "    x = layers.Flatten()(x)\n",
    "    x = layers.Dense(128, activation='relu')(x)\n",
    "\n",
    "    z_mean = layers.Dense(latent_dim, name='z_mean')(x)\n",
    "    z_log_var = layers.Dense(latent_dim, name='z_log_var')(x)\n",
    "\n",
    "    return models.Model(encoder_inputs, [z_mean, z_log_var], name='encoder')\n",
    "\n",
    "latent_dim = 64  \n",
    "encoder = create_encoder(latent_dim)\n",
    "encoder.summary()"
   ]
  },
  {
   "cell_type": "markdown",
   "metadata": {},
   "source": [
    "## Define Reparameterization"
   ]
  },
  {
   "cell_type": "code",
   "execution_count": 5,
   "metadata": {},
   "outputs": [
    {
     "name": "stdout",
     "output_type": "stream",
     "text": [
      "Model: \"variational_encoder\"\n",
      "__________________________________________________________________________________________________\n",
      " Layer (type)                   Output Shape         Param #     Connected to                     \n",
      "==================================================================================================\n",
      " input_2 (InputLayer)           [(None, 28, 28, 1)]  0           []                               \n",
      "                                                                                                  \n",
      " encoder (Functional)           [(None, 64),         436864      ['input_2[0][0]']                \n",
      "                                 (None, 64)]                                                      \n",
      "                                                                                                  \n",
      " z (Lambda)                     (None, 64)           0           ['encoder[0][0]',                \n",
      "                                                                  'encoder[0][1]']                \n",
      "                                                                                                  \n",
      "==================================================================================================\n",
      "Total params: 436,864\n",
      "Trainable params: 436,864\n",
      "Non-trainable params: 0\n",
      "__________________________________________________________________________________________________\n"
     ]
    }
   ],
   "source": [
    "def sampling(args):\n",
    "    z_mean, z_log_var = args\n",
    "    epsilon = tf.random.normal(shape=tf.shape(z_mean))\n",
    "    return z_mean + tf.exp(0.5 * z_log_var) * epsilon\n",
    "\n",
    "def create_variational_encoder(latent_dim):\n",
    "    encoder_inputs = layers.Input(shape=(28, 28, 1))\n",
    "    z_mean, z_log_var = create_encoder(latent_dim)(encoder_inputs)\n",
    "    z = layers.Lambda(sampling, output_shape=(latent_dim,), name='z')([z_mean, z_log_var])\n",
    "    return models.Model(encoder_inputs, [z_mean, z_log_var, z], name='variational_encoder')\n",
    "\n",
    "variational_encoder = create_variational_encoder(latent_dim)\n",
    "variational_encoder.summary()\n"
   ]
  },
  {
   "cell_type": "markdown",
   "metadata": {},
   "source": [
    "## Define the Decoder"
   ]
  },
  {
   "cell_type": "code",
   "execution_count": 6,
   "metadata": {},
   "outputs": [
    {
     "name": "stdout",
     "output_type": "stream",
     "text": [
      "Model: \"decoder\"\n",
      "_________________________________________________________________\n",
      " Layer (type)                Output Shape              Param #   \n",
      "=================================================================\n",
      " input_4 (InputLayer)        [(None, 64)]              0         \n",
      "                                                                 \n",
      " dense_2 (Dense)             (None, 3136)              203840    \n",
      "                                                                 \n",
      " reshape (Reshape)           (None, 7, 7, 64)          0         \n",
      "                                                                 \n",
      " conv2d_transpose (Conv2DTra  (None, 7, 7, 64)         36928     \n",
      " nspose)                                                         \n",
      "                                                                 \n",
      " up_sampling2d (UpSampling2D  (None, 14, 14, 64)       0         \n",
      " )                                                               \n",
      "                                                                 \n",
      " conv2d_transpose_1 (Conv2DT  (None, 14, 14, 32)       18464     \n",
      " ranspose)                                                       \n",
      "                                                                 \n",
      " up_sampling2d_1 (UpSampling  (None, 28, 28, 32)       0         \n",
      " 2D)                                                             \n",
      "                                                                 \n",
      " conv2d_transpose_2 (Conv2DT  (None, 28, 28, 1)        289       \n",
      " ranspose)                                                       \n",
      "                                                                 \n",
      "=================================================================\n",
      "Total params: 259,521\n",
      "Trainable params: 259,521\n",
      "Non-trainable params: 0\n",
      "_________________________________________________________________\n"
     ]
    }
   ],
   "source": [
    "def create_decoder(latent_dim):\n",
    "    decoder_inputs = layers.Input(shape=(latent_dim,))\n",
    "    x = layers.Dense(7 * 7 * 64, activation='relu')(decoder_inputs)\n",
    "    x = layers.Reshape((7, 7, 64))(x)\n",
    "    x = layers.Conv2DTranspose(64, 3, activation='relu', padding='same')(x)\n",
    "    x = layers.UpSampling2D()(x)\n",
    "    x = layers.Conv2DTranspose(32, 3, activation='relu', padding='same')(x)\n",
    "    x = layers.UpSampling2D()(x)\n",
    "    decoder_outputs = layers.Conv2DTranspose(1, 3, activation='sigmoid', padding='same')(x)\n",
    "\n",
    "    return models.Model(decoder_inputs, decoder_outputs, name='decoder')\n",
    "\n",
    "decoder = create_decoder(latent_dim)\n",
    "decoder.summary()\n"
   ]
  },
  {
   "cell_type": "markdown",
   "metadata": {},
   "source": [
    "## Create the VAE Class"
   ]
  },
  {
   "cell_type": "code",
   "execution_count": 7,
   "metadata": {},
   "outputs": [],
   "source": [
    "class VAE(tf.keras.Model):\n",
    "    def __init__(self, encoder, decoder, **kwargs):\n",
    "        super(VAE, self).__init__(**kwargs)\n",
    "        self.encoder = encoder\n",
    "        self.decoder = decoder\n",
    "\n",
    "    def call(self, inputs):\n",
    "        z_mean, z_log_var, z = self.encoder(inputs)\n",
    "        reconstructed = self.decoder(z)\n",
    "        kl_loss = -0.5 * tf.reduce_mean(\n",
    "            z_log_var - tf.square(z_mean) - tf.exp(z_log_var) + 1\n",
    "        )\n",
    "        self.add_loss(kl_loss)  \n",
    "        return reconstructed\n",
    "\n",
    "vae = VAE(variational_encoder, decoder)\n",
    "vae.compile(optimizer='adam', loss=tf.keras.losses.binary_crossentropy)"
   ]
  },
  {
   "cell_type": "markdown",
   "metadata": {},
   "source": [
    "## Data Augmentation and Callbacks"
   ]
  },
  {
   "cell_type": "code",
   "execution_count": 22,
   "metadata": {},
   "outputs": [],
   "source": [
    "class VAE(tf.keras.Model):\n",
    "    def __init__(self, encoder, decoder, **kwargs):\n",
    "        super(VAE, self).__init__(**kwargs)\n",
    "        self.encoder = encoder\n",
    "        self.decoder = decoder\n",
    "\n",
    "    def call(self, inputs):\n",
    "        z_mean, z_log_var, z = self.encoder(inputs)\n",
    "        reconstructed = self.decoder(z)\n",
    "        kl_loss = -0.5 * tf.reduce_mean(\n",
    "            z_log_var - tf.square(z_mean) - tf.exp(z_log_var) + 1\n",
    "        )\n",
    "        self.add_loss(kl_loss)  \n",
    "        return reconstructed\n",
    "\n",
    "    def get_config(self):\n",
    "        config = super(VAE, self).get_config()\n",
    "        config.update({\n",
    "            'encoder': self.encoder,\n",
    "            'decoder': self.decoder\n",
    "        })\n",
    "        return config\n",
    "\n",
    "vae = VAE(variational_encoder, decoder)\n",
    "vae.compile(optimizer='adam', loss=tf.keras.losses.binary_crossentropy)\n",
    "\n",
    "checkpoint = ModelCheckpoint('vae_model', \n",
    "                             monitor='val_loss', \n",
    "                             verbose=1, \n",
    "                             save_best_only=True, \n",
    "                             mode='min', \n",
    "                             save_format=\"tf\")\n",
    "\n"
   ]
  },
  {
   "cell_type": "markdown",
   "metadata": {},
   "source": [
    "## Train the VAE"
   ]
  },
  {
   "cell_type": "code",
   "execution_count": 19,
   "metadata": {},
   "outputs": [
    {
     "data": {
      "text/plain": [
       "[PhysicalDevice(name='/physical_device:CPU:0', device_type='CPU'),\n",
       " PhysicalDevice(name='/physical_device:GPU:0', device_type='GPU')]"
      ]
     },
     "execution_count": 19,
     "metadata": {},
     "output_type": "execute_result"
    }
   ],
   "source": [
    "tf.config.list_physical_devices()"
   ]
  },
  {
   "cell_type": "code",
   "execution_count": 20,
   "metadata": {},
   "outputs": [
    {
     "name": "stdout",
     "output_type": "stream",
     "text": [
      "[PhysicalDevice(name='/physical_device:CPU:0', device_type='CPU'), PhysicalDevice(name='/physical_device:GPU:0', device_type='GPU')]\n"
     ]
    }
   ],
   "source": [
    "tf.config.set_visible_devices(tf.config.get_visible_devices('GPU')[0], 'GPU')\n",
    "\n",
    "# Verify that the GPU is being used\n",
    "print(tf.config.get_visible_devices())"
   ]
  },
  {
   "cell_type": "code",
   "execution_count": 23,
   "metadata": {},
   "outputs": [
    {
     "name": "stdout",
     "output_type": "stream",
     "text": [
      "Epoch 1/50\n",
      "937/938 [============================>.] - ETA: 0s - loss: 0.4072\n",
      "Epoch 1: val_loss improved from inf to 0.40620, saving model to vae_model\n"
     ]
    },
    {
     "name": "stderr",
     "output_type": "stream",
     "text": [
      "WARNING:absl:Found untraced functions such as _jit_compiled_convolution_op, _jit_compiled_convolution_op, _jit_compiled_convolution_op, _jit_compiled_convolution_op, _jit_compiled_convolution_op while saving (showing 5 of 5). These functions will not be directly callable after loading.\n"
     ]
    },
    {
     "name": "stdout",
     "output_type": "stream",
     "text": [
      "INFO:tensorflow:Assets written to: vae_model\\assets\n"
     ]
    },
    {
     "name": "stderr",
     "output_type": "stream",
     "text": [
      "INFO:tensorflow:Assets written to: vae_model\\assets\n"
     ]
    },
    {
     "name": "stdout",
     "output_type": "stream",
     "text": [
      "938/938 [==============================] - 16s 17ms/step - loss: 0.4072 - val_loss: 0.4062\n",
      "Epoch 2/50\n",
      "934/938 [============================>.] - ETA: 0s - loss: 0.4057\n",
      "Epoch 2: val_loss did not improve from 0.40620\n",
      "938/938 [==============================] - 14s 15ms/step - loss: 0.4057 - val_loss: 0.4091\n",
      "Epoch 3/50\n",
      "936/938 [============================>.] - ETA: 0s - loss: 0.4054\n",
      "Epoch 3: val_loss did not improve from 0.40620\n",
      "938/938 [==============================] - 13s 14ms/step - loss: 0.4054 - val_loss: 0.4072\n",
      "Epoch 4/50\n",
      "937/938 [============================>.] - ETA: 0s - loss: 0.4046\n",
      "Epoch 4: val_loss did not improve from 0.40620\n",
      "938/938 [==============================] - 14s 14ms/step - loss: 0.4046 - val_loss: 0.4063\n",
      "Epoch 5/50\n",
      "935/938 [============================>.] - ETA: 0s - loss: 0.4041\n",
      "Epoch 5: val_loss did not improve from 0.40620\n",
      "938/938 [==============================] - 13s 14ms/step - loss: 0.4040 - val_loss: 0.4083\n",
      "Epoch 6/50\n",
      "936/938 [============================>.] - ETA: 0s - loss: 0.4034\n",
      "Epoch 6: val_loss did not improve from 0.40620\n",
      "938/938 [==============================] - 14s 15ms/step - loss: 0.4034 - val_loss: 0.4075\n",
      "Epoch 7/50\n",
      "936/938 [============================>.] - ETA: 0s - loss: 0.4031\n",
      "Epoch 7: val_loss improved from 0.40620 to 0.40357, saving model to vae_model\n"
     ]
    },
    {
     "name": "stderr",
     "output_type": "stream",
     "text": [
      "WARNING:absl:Found untraced functions such as _jit_compiled_convolution_op, _jit_compiled_convolution_op, _jit_compiled_convolution_op, _jit_compiled_convolution_op, _jit_compiled_convolution_op while saving (showing 5 of 5). These functions will not be directly callable after loading.\n"
     ]
    },
    {
     "name": "stdout",
     "output_type": "stream",
     "text": [
      "INFO:tensorflow:Assets written to: vae_model\\assets\n"
     ]
    },
    {
     "name": "stderr",
     "output_type": "stream",
     "text": [
      "INFO:tensorflow:Assets written to: vae_model\\assets\n"
     ]
    },
    {
     "name": "stdout",
     "output_type": "stream",
     "text": [
      "938/938 [==============================] - 15s 16ms/step - loss: 0.4031 - val_loss: 0.4036\n",
      "Epoch 8/50\n",
      "934/938 [============================>.] - ETA: 0s - loss: 0.4030\n",
      "Epoch 8: val_loss did not improve from 0.40357\n",
      "938/938 [==============================] - 14s 15ms/step - loss: 0.4029 - val_loss: 0.4080\n",
      "Epoch 9/50\n",
      "935/938 [============================>.] - ETA: 0s - loss: 0.4026\n",
      "Epoch 9: val_loss did not improve from 0.40357\n",
      "938/938 [==============================] - 13s 14ms/step - loss: 0.4026 - val_loss: 0.4052\n",
      "Epoch 10/50\n",
      "938/938 [==============================] - ETA: 0s - loss: 0.4022\n",
      "Epoch 10: val_loss did not improve from 0.40357\n",
      "938/938 [==============================] - 14s 15ms/step - loss: 0.4022 - val_loss: 0.4107\n",
      "Epoch 11/50\n",
      "935/938 [============================>.] - ETA: 0s - loss: 0.4022\n",
      "Epoch 11: val_loss improved from 0.40357 to 0.40326, saving model to vae_model\n"
     ]
    },
    {
     "name": "stderr",
     "output_type": "stream",
     "text": [
      "WARNING:absl:Found untraced functions such as _jit_compiled_convolution_op, _jit_compiled_convolution_op, _jit_compiled_convolution_op, _jit_compiled_convolution_op, _jit_compiled_convolution_op while saving (showing 5 of 5). These functions will not be directly callable after loading.\n"
     ]
    },
    {
     "name": "stdout",
     "output_type": "stream",
     "text": [
      "INFO:tensorflow:Assets written to: vae_model\\assets\n"
     ]
    },
    {
     "name": "stderr",
     "output_type": "stream",
     "text": [
      "INFO:tensorflow:Assets written to: vae_model\\assets\n"
     ]
    },
    {
     "name": "stdout",
     "output_type": "stream",
     "text": [
      "938/938 [==============================] - 16s 17ms/step - loss: 0.4023 - val_loss: 0.4033\n",
      "Epoch 12/50\n",
      "935/938 [============================>.] - ETA: 0s - loss: 0.4019\n",
      "Epoch 12: val_loss did not improve from 0.40326\n",
      "938/938 [==============================] - 15s 16ms/step - loss: 0.4019 - val_loss: 0.4060\n",
      "Epoch 13/50\n",
      "935/938 [============================>.] - ETA: 0s - loss: 0.4017\n",
      "Epoch 13: val_loss did not improve from 0.40326\n",
      "938/938 [==============================] - 17s 18ms/step - loss: 0.4017 - val_loss: 0.4080\n",
      "Epoch 14/50\n",
      "936/938 [============================>.] - ETA: 0s - loss: 0.4015\n",
      "Epoch 14: val_loss did not improve from 0.40326\n",
      "938/938 [==============================] - 16s 17ms/step - loss: 0.4014 - val_loss: 0.4068\n",
      "Epoch 15/50\n",
      "934/938 [============================>.] - ETA: 0s - loss: 0.4013\n",
      "Epoch 15: val_loss did not improve from 0.40326\n",
      "938/938 [==============================] - 18s 19ms/step - loss: 0.4013 - val_loss: 0.4079\n",
      "Epoch 16/50\n",
      "936/938 [============================>.] - ETA: 0s - loss: 0.4011\n",
      "Epoch 16: val_loss did not improve from 0.40326\n",
      "938/938 [==============================] - 19s 20ms/step - loss: 0.4011 - val_loss: 0.4125\n",
      "Epoch 17/50\n",
      "937/938 [============================>.] - ETA: 0s - loss: 0.4010\n",
      "Epoch 17: val_loss did not improve from 0.40326\n",
      "938/938 [==============================] - 22s 23ms/step - loss: 0.4010 - val_loss: 0.4036\n",
      "Epoch 18/50\n",
      "937/938 [============================>.] - ETA: 0s - loss: 0.4009\n",
      "Epoch 18: val_loss did not improve from 0.40326\n",
      "938/938 [==============================] - 24s 25ms/step - loss: 0.4009 - val_loss: 0.4097\n",
      "Epoch 19/50\n",
      "936/938 [============================>.] - ETA: 0s - loss: 0.4007\n",
      "Epoch 19: val_loss did not improve from 0.40326\n",
      "938/938 [==============================] - 23s 24ms/step - loss: 0.4007 - val_loss: 0.4070\n",
      "Epoch 20/50\n",
      "935/938 [============================>.] - ETA: 0s - loss: 0.4006\n",
      "Epoch 20: val_loss did not improve from 0.40326\n",
      "938/938 [==============================] - 21s 22ms/step - loss: 0.4006 - val_loss: 0.4058\n",
      "Epoch 21/50\n",
      "936/938 [============================>.] - ETA: 0s - loss: 0.4000\n",
      "Epoch 21: val_loss did not improve from 0.40326\n",
      "938/938 [==============================] - 16s 17ms/step - loss: 0.4001 - val_loss: 0.4064\n",
      "Epoch 22/50\n",
      "938/938 [==============================] - ETA: 0s - loss: 0.4002\n",
      "Epoch 22: val_loss did not improve from 0.40326\n",
      "938/938 [==============================] - 17s 18ms/step - loss: 0.4002 - val_loss: 0.4047\n",
      "Epoch 23/50\n",
      "937/938 [============================>.] - ETA: 0s - loss: 0.3999\n",
      "Epoch 23: val_loss did not improve from 0.40326\n",
      "938/938 [==============================] - 16s 17ms/step - loss: 0.3999 - val_loss: 0.4054\n",
      "Epoch 24/50\n",
      "936/938 [============================>.] - ETA: 0s - loss: 0.3998\n",
      "Epoch 24: val_loss did not improve from 0.40326\n",
      "938/938 [==============================] - 15s 16ms/step - loss: 0.3997 - val_loss: 0.4090\n",
      "Epoch 25/50\n",
      "938/938 [==============================] - ETA: 0s - loss: 0.3996\n",
      "Epoch 25: val_loss did not improve from 0.40326\n",
      "938/938 [==============================] - 15s 16ms/step - loss: 0.3996 - val_loss: 0.4051\n",
      "Epoch 26/50\n",
      "936/938 [============================>.] - ETA: 0s - loss: 0.3993\n",
      "Epoch 26: val_loss did not improve from 0.40326\n",
      "938/938 [==============================] - 18s 19ms/step - loss: 0.3992 - val_loss: 0.4034\n",
      "Epoch 27/50\n",
      "938/938 [==============================] - ETA: 0s - loss: 0.3993\n",
      "Epoch 27: val_loss did not improve from 0.40326\n",
      "938/938 [==============================] - 16s 17ms/step - loss: 0.3993 - val_loss: 0.4076\n",
      "Epoch 28/50\n",
      "938/938 [==============================] - ETA: 0s - loss: 0.3989\n",
      "Epoch 28: val_loss did not improve from 0.40326\n",
      "938/938 [==============================] - 16s 17ms/step - loss: 0.3989 - val_loss: 0.4079\n",
      "Epoch 29/50\n",
      "938/938 [==============================] - ETA: 0s - loss: 0.3988\n",
      "Epoch 29: val_loss did not improve from 0.40326\n",
      "938/938 [==============================] - 16s 17ms/step - loss: 0.3988 - val_loss: 0.4082\n",
      "Epoch 30/50\n",
      "937/938 [============================>.] - ETA: 0s - loss: 0.3988\n",
      "Epoch 30: val_loss did not improve from 0.40326\n",
      "938/938 [==============================] - 16s 17ms/step - loss: 0.3987 - val_loss: 0.4120\n",
      "Epoch 31/50\n",
      "936/938 [============================>.] - ETA: 0s - loss: 0.3986\n",
      "Epoch 31: val_loss did not improve from 0.40326\n",
      "938/938 [==============================] - 16s 17ms/step - loss: 0.3986 - val_loss: 0.4041\n",
      "Epoch 32/50\n",
      "936/938 [============================>.] - ETA: 0s - loss: 0.3986\n",
      "Epoch 32: val_loss did not improve from 0.40326\n",
      "938/938 [==============================] - 16s 17ms/step - loss: 0.3986 - val_loss: 0.4066\n",
      "Epoch 33/50\n",
      "938/938 [==============================] - ETA: 0s - loss: 0.3985\n",
      "Epoch 33: val_loss did not improve from 0.40326\n",
      "938/938 [==============================] - 16s 17ms/step - loss: 0.3985 - val_loss: 0.4071\n",
      "Epoch 34/50\n",
      "936/938 [============================>.] - ETA: 0s - loss: 0.3985\n",
      "Epoch 34: val_loss did not improve from 0.40326\n",
      "938/938 [==============================] - 16s 17ms/step - loss: 0.3984 - val_loss: 0.4057\n",
      "Epoch 35/50\n",
      "936/938 [============================>.] - ETA: 0s - loss: 0.3980\n",
      "Epoch 35: val_loss did not improve from 0.40326\n",
      "938/938 [==============================] - 16s 17ms/step - loss: 0.3981 - val_loss: 0.4087\n",
      "Epoch 36/50\n",
      "937/938 [============================>.] - ETA: 0s - loss: 0.3982\n",
      "Epoch 36: val_loss did not improve from 0.40326\n",
      "938/938 [==============================] - 16s 17ms/step - loss: 0.3982 - val_loss: 0.4080\n",
      "Epoch 37/50\n",
      "936/938 [============================>.] - ETA: 0s - loss: 0.3981\n",
      "Epoch 37: val_loss did not improve from 0.40326\n",
      "938/938 [==============================] - 16s 17ms/step - loss: 0.3981 - val_loss: 0.4066\n",
      "Epoch 38/50\n",
      "935/938 [============================>.] - ETA: 0s - loss: 0.3981\n",
      "Epoch 38: val_loss did not improve from 0.40326\n",
      "938/938 [==============================] - 16s 17ms/step - loss: 0.3981 - val_loss: 0.4069\n",
      "Epoch 39/50\n",
      "936/938 [============================>.] - ETA: 0s - loss: 0.3977\n",
      "Epoch 39: val_loss did not improve from 0.40326\n",
      "938/938 [==============================] - 16s 17ms/step - loss: 0.3976 - val_loss: 0.4096\n",
      "Epoch 40/50\n",
      "938/938 [==============================] - ETA: 0s - loss: 0.3979\n",
      "Epoch 40: val_loss did not improve from 0.40326\n",
      "938/938 [==============================] - 15s 16ms/step - loss: 0.3979 - val_loss: 0.4040\n",
      "Epoch 41/50\n",
      "937/938 [============================>.] - ETA: 0s - loss: 0.3976\n",
      "Epoch 41: val_loss did not improve from 0.40326\n",
      "938/938 [==============================] - 16s 17ms/step - loss: 0.3976 - val_loss: 0.4045\n",
      "Epoch 42/50\n",
      "938/938 [==============================] - ETA: 0s - loss: 0.3974\n",
      "Epoch 42: val_loss did not improve from 0.40326\n",
      "938/938 [==============================] - 17s 18ms/step - loss: 0.3974 - val_loss: 0.4086\n",
      "Epoch 43/50\n",
      "937/938 [============================>.] - ETA: 0s - loss: 0.3972\n",
      "Epoch 43: val_loss did not improve from 0.40326\n",
      "938/938 [==============================] - 16s 17ms/step - loss: 0.3972 - val_loss: 0.4042\n",
      "Epoch 44/50\n",
      "936/938 [============================>.] - ETA: 0s - loss: 0.3972\n",
      "Epoch 44: val_loss did not improve from 0.40326\n",
      "938/938 [==============================] - 15s 16ms/step - loss: 0.3972 - val_loss: 0.4071\n",
      "Epoch 45/50\n",
      "937/938 [============================>.] - ETA: 0s - loss: 0.3971\n",
      "Epoch 45: val_loss did not improve from 0.40326\n",
      "938/938 [==============================] - 17s 18ms/step - loss: 0.3971 - val_loss: 0.4061\n",
      "Epoch 46/50\n",
      "938/938 [==============================] - ETA: 0s - loss: 0.3971\n",
      "Epoch 46: val_loss improved from 0.40326 to 0.40196, saving model to vae_model\n"
     ]
    },
    {
     "name": "stderr",
     "output_type": "stream",
     "text": [
      "WARNING:absl:Found untraced functions such as _jit_compiled_convolution_op, _jit_compiled_convolution_op, _jit_compiled_convolution_op, _jit_compiled_convolution_op, _jit_compiled_convolution_op while saving (showing 5 of 5). These functions will not be directly callable after loading.\n"
     ]
    },
    {
     "name": "stdout",
     "output_type": "stream",
     "text": [
      "INFO:tensorflow:Assets written to: vae_model\\assets\n"
     ]
    },
    {
     "name": "stderr",
     "output_type": "stream",
     "text": [
      "INFO:tensorflow:Assets written to: vae_model\\assets\n"
     ]
    },
    {
     "name": "stdout",
     "output_type": "stream",
     "text": [
      "938/938 [==============================] - 19s 20ms/step - loss: 0.3971 - val_loss: 0.4020\n",
      "Epoch 47/50\n",
      "938/938 [==============================] - ETA: 0s - loss: 0.3971\n",
      "Epoch 47: val_loss did not improve from 0.40196\n",
      "938/938 [==============================] - 18s 19ms/step - loss: 0.3971 - val_loss: 0.4091\n",
      "Epoch 48/50\n",
      "937/938 [============================>.] - ETA: 0s - loss: 0.3967\n",
      "Epoch 48: val_loss did not improve from 0.40196\n",
      "938/938 [==============================] - 17s 18ms/step - loss: 0.3967 - val_loss: 0.4070\n",
      "Epoch 49/50\n",
      "936/938 [============================>.] - ETA: 0s - loss: 0.3969\n",
      "Epoch 49: val_loss did not improve from 0.40196\n",
      "938/938 [==============================] - 16s 17ms/step - loss: 0.3969 - val_loss: 0.4063\n",
      "Epoch 50/50\n",
      "937/938 [============================>.] - ETA: 0s - loss: 0.3968\n",
      "Epoch 50: val_loss did not improve from 0.40196\n",
      "938/938 [==============================] - 16s 17ms/step - loss: 0.3968 - val_loss: 0.4053\n"
     ]
    },
    {
     "data": {
      "text/plain": [
       "<keras.callbacks.History at 0x1e8cf32fd00>"
      ]
     },
     "execution_count": 23,
     "metadata": {},
     "output_type": "execute_result"
    }
   ],
   "source": [
    "vae.fit(data_gen.flow(x_train, x_train, batch_size=64), \n",
    "        epochs=50, \n",
    "        validation_data=(x_test, x_test), \n",
    "        callbacks=[checkpoint])"
   ]
  },
  {
   "cell_type": "markdown",
   "metadata": {},
   "source": [
    "## Inference \n",
    "##### The VAE model shows stable and consistent learning over 50 epochs, with both training and validation losses decreasing gradually and staying closely aligned, indicating good generalization without overfitting. The marginal reduction in loss over the last several epochs suggests that the model is nearing convergence. \n",
    "\n",
    "##### Overall, the model is performing well and has learned to reconstruct the data effectively.\n",
    "\n",
    "\n",
    "\n",
    "\n"
   ]
  },
  {
   "cell_type": "markdown",
   "metadata": {},
   "source": [
    "## Generating New Data"
   ]
  },
  {
   "cell_type": "code",
   "execution_count": 24,
   "metadata": {},
   "outputs": [
    {
     "name": "stdout",
     "output_type": "stream",
     "text": [
      "1/1 [==============================] - 0s 259ms/step\n"
     ]
    },
    {
     "data": {
      "image/png": "[encoded data removed]",
      "text/plain": [
       "<Figure size 1000x1000 with 25 Axes>"
      ]
     },
     "metadata": {},
     "output_type": "display_data"
    }
   ],
   "source": [
    "def plot_generated_images(decoder, n=25):\n",
    "    z_samples = tf.random.normal(shape=(n, latent_dim))  \n",
    "    generated_images = decoder.predict(z_samples)\n",
    "\n",
    "    plt.figure(figsize=(10, 10)) \n",
    "    for i in range(n):\n",
    "        plt.subplot(5, 5, i + 1)  \n",
    "        plt.imshow(generated_images[i].reshape(28, 28), cmap='gray')\n",
    "        plt.axis('off')\n",
    "    plt.show()\n",
    "\n",
    "plot_generated_images(decoder)\n"
   ]
  },
  {
   "cell_type": "markdown",
   "metadata": {},
   "source": [
    "## Conclusion \n",
    "##### The Variational Autoencoder (VAE) model showed stable training behavior over 50 epochs, with the training and validation losses remaining close to each other, indicating no significant overfitting. The final validation loss of approximately 0.4006 suggests that the model has learned to reconstruct the input data."
   ]
  },
  {
   "cell_type": "code",
   "execution_count": null,
   "metadata": {},
   "outputs": [],
   "source": []
  }
 ],
 "metadata": {
  "kaggle": {
   "accelerator": "nvidiaTeslaT4",
   "dataSources": [],
   "dockerImageVersionId": 30776,
   "isGpuEnabled": true,
   "isInternetEnabled": true,
   "language": "python",
   "sourceType": "notebook"
  },
  "kernelspec": {
   "display_name": "Python 3 (ipykernel)",
   "language": "python",
   "name": "python3"
  },
  "language_info": {
   "codemirror_mode": {
    "name": "ipython",
    "version": 3
   },
   "file_extension": ".py",
   "mimetype": "text/x-python",
   "name": "python",
   "nbconvert_exporter": "python",
   "pygments_lexer": "ipython3",
   "version": "3.9.19"
  }
 },
 "nbformat": 4,
 "nbformat_minor": 4
}
