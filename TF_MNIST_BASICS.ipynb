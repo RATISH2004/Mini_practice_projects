{
 "cells": [
  {
   "cell_type": "markdown",
   "id": "04fe6e6a-fc69-4a2d-8af5-b7bb6a10c298",
   "metadata": {},
   "source": [
    "# A. TF basics\n",
    "# B. Make a simple neural netwrok for classification of MNIST dataset"
   ]
  },
  {
   "cell_type": "code",
   "execution_count": 1,
   "id": "8e40d461-cf07-4617-becb-7ae4a25d1622",
   "metadata": {},
   "outputs": [
    {
     "data": {
      "text/plain": [
       "'2.10.0'"
      ]
     },
     "execution_count": 1,
     "metadata": {},
     "output_type": "execute_result"
    }
   ],
   "source": [
    "import tensorflow as tf\n",
    "from tensorflow import keras\n",
    "import keras\n",
    "from keras.models import Sequential\n",
    "from keras.layers import Dense,Dropout,Flatten\n",
    "from sklearn.metrics import confusion_matrix\n",
    "from sklearn.metrics import accuracy_score\n",
    "import seaborn as sns\n",
    "import numpy as np\n",
    "import matplotlib.pyplot as plt\n",
    "\n",
    "\n",
    "tf.__version__"
   ]
  },
  {
   "cell_type": "markdown",
   "id": "6becade7-8246-4dc9-bb55-89ecfc85c922",
   "metadata": {},
   "source": [
    "# PART-A"
   ]
  },
  {
   "cell_type": "markdown",
   "id": "8dfb4325-411f-42d6-be9d-9eec14d919ef",
   "metadata": {},
   "source": [
    "### Q1. Create a vector, scalar, matrix and tensor with values of your choosing using tf.constant()\n"
   ]
  },
  {
   "cell_type": "code",
   "execution_count": 2,
   "id": "dbc1536e-1fc9-4b78-a6b8-0b8eda892593",
   "metadata": {},
   "outputs": [
    {
     "data": {
      "text/plain": [
       "<tf.Tensor: shape=(3,), dtype=int32, numpy=array([1, 2, 3])>"
      ]
     },
     "execution_count": 2,
     "metadata": {},
     "output_type": "execute_result"
    }
   ],
   "source": [
    "x=tf.constant([1,2,3])#Vector\n",
    "x"
   ]
  },
  {
   "cell_type": "code",
   "execution_count": 3,
   "id": "74cea6be-1fbd-44de-9fcd-3166de33fcb8",
   "metadata": {},
   "outputs": [
    {
     "data": {
      "text/plain": [
       "<tf.Tensor: shape=(), dtype=int32, numpy=1>"
      ]
     },
     "execution_count": 3,
     "metadata": {},
     "output_type": "execute_result"
    }
   ],
   "source": [
    "y=tf.constant(1)#Scalar\n",
    "y"
   ]
  },
  {
   "cell_type": "code",
   "execution_count": 4,
   "id": "65fc7cd2-1fbb-425b-b604-c7e436e971cb",
   "metadata": {},
   "outputs": [
    {
     "data": {
      "text/plain": [
       "<tf.Tensor: shape=(2, 2), dtype=int32, numpy=\n",
       "array([[1, 3],\n",
       "       [4, 5]])>"
      ]
     },
     "execution_count": 4,
     "metadata": {},
     "output_type": "execute_result"
    }
   ],
   "source": [
    "z=tf.constant([[1,3],[4,5]])#Matrix\n",
    "z"
   ]
  },
  {
   "cell_type": "markdown",
   "id": "dcd1972e-018c-4880-9a2e-2d0b352c65d2",
   "metadata": {},
   "source": [
    "### Q2.Find the shape, rank and size of the tensors you created in 1."
   ]
  },
  {
   "cell_type": "code",
   "execution_count": 5,
   "id": "b9b39ed3-900e-4d21-a525-7355cf5fb64a",
   "metadata": {},
   "outputs": [
    {
     "name": "stdout",
     "output_type": "stream",
     "text": [
      "tf.Tensor([3], shape=(1,), dtype=int32)\n",
      "tf.Tensor(3, shape=(), dtype=int32)\n",
      "tf.Tensor(1, shape=(), dtype=int32)\n"
     ]
    }
   ],
   "source": [
    "print(tf.shape(x))\n",
    "print(tf.size(x))\n",
    "print(tf.rank(x))"
   ]
  },
  {
   "cell_type": "code",
   "execution_count": 6,
   "id": "e03d1079-7ac3-4748-aa39-038f8bccb15c",
   "metadata": {},
   "outputs": [
    {
     "name": "stdout",
     "output_type": "stream",
     "text": [
      "tf.Tensor([], shape=(0,), dtype=int32)\n",
      "tf.Tensor(1, shape=(), dtype=int32)\n",
      "tf.Tensor(0, shape=(), dtype=int32)\n"
     ]
    }
   ],
   "source": [
    "print(tf.shape(y))\n",
    "print(tf.size(y))\n",
    "print(tf.rank(y))"
   ]
  },
  {
   "cell_type": "code",
   "execution_count": 7,
   "id": "c6ef6299-ac29-43d1-a078-56ee14283efb",
   "metadata": {},
   "outputs": [
    {
     "name": "stdout",
     "output_type": "stream",
     "text": [
      "tf.Tensor([2 2], shape=(2,), dtype=int32)\n",
      "tf.Tensor(4, shape=(), dtype=int32)\n",
      "tf.Tensor(2, shape=(), dtype=int32)\n"
     ]
    }
   ],
   "source": [
    "print(tf.shape(z))\n",
    "print(tf.size(z))\n",
    "print(tf.rank(z))"
   ]
  },
  {
   "cell_type": "markdown",
   "id": "cd525b79-9d1f-4955-9f3a-f6f4bbc1ec4e",
   "metadata": {},
   "source": [
    "### Q3.Create two tensors containing random values between 0 and 1 with shape [5, 300]"
   ]
  },
  {
   "cell_type": "code",
   "execution_count": 8,
   "id": "7ee8cd9f-b75b-4a59-a4b0-9a6f76063c8c",
   "metadata": {},
   "outputs": [
    {
     "name": "stdout",
     "output_type": "stream",
     "text": [
      "tf.Tensor(\n",
      "[[0.4017638  0.5363282  0.672806   ... 0.8989899  0.62930214 0.91344523]\n",
      " [0.33667564 0.05749917 0.42061734 ... 0.71457684 0.09479249 0.1341852 ]\n",
      " [0.97711456 0.52341664 0.75566316 ... 0.47239923 0.5399232  0.9203489 ]\n",
      " [0.05128431 0.7147615  0.77089167 ... 0.8852837  0.29805398 0.419258  ]\n",
      " [0.6071496  0.45012236 0.00921488 ... 0.19749415 0.90593755 0.48939753]], shape=(5, 300), dtype=float32)\n",
      "tf.Tensor(\n",
      "[[0.8855152  0.67129016 0.8480487  ... 0.92353    0.44409168 0.5181931 ]\n",
      " [0.3168789  0.6559191  0.92027605 ... 0.8081764  0.5832063  0.02932703]\n",
      " [0.57577574 0.16079974 0.17746747 ... 0.00935721 0.517128   0.17144728]\n",
      " [0.31847215 0.78110886 0.5623014  ... 0.6160325  0.9802401  0.424456  ]\n",
      " [0.1218425  0.8727561  0.6781552  ... 0.2686733  0.13148153 0.9039545 ]], shape=(5, 300), dtype=float32)\n"
     ]
    }
   ],
   "source": [
    "shape=[5,300]\n",
    "rt1=tf.random.uniform(shape=shape)\n",
    "rt2=tf.random.uniform(shape=shape)\n",
    "print(rt1)\n",
    "print(rt2)"
   ]
  },
  {
   "cell_type": "markdown",
   "id": "2595c04e-fa39-4e6d-abb8-ba36e767cd3c",
   "metadata": {},
   "source": [
    "### Q4.Multiply the two tensors you created in 3 using matrix multiplication"
   ]
  },
  {
   "cell_type": "code",
   "execution_count": 9,
   "id": "101ad6af-74e3-4273-bf8f-2173f6a512b8",
   "metadata": {},
   "outputs": [
    {
     "data": {
      "text/plain": [
       "<tf.Tensor: shape=(5, 5), dtype=float32, numpy=\n",
       "array([[74.495544, 79.24943 , 73.10128 , 76.3179  , 73.349594],\n",
       "       [75.5901  , 77.144226, 75.34735 , 72.571045, 73.64276 ],\n",
       "       [77.058624, 80.80955 , 79.06218 , 78.87268 , 78.208336],\n",
       "       [74.95584 , 79.791855, 73.40244 , 74.297554, 73.09276 ],\n",
       "       [78.11189 , 81.3198  , 79.978355, 77.79654 , 77.88408 ]],\n",
       "      dtype=float32)>"
      ]
     },
     "execution_count": 9,
     "metadata": {},
     "output_type": "execute_result"
    }
   ],
   "source": [
    "rt3=tf.reshape(rt2,[300,5])\n",
    "r=tf.matmul(rt1,rt3)\n",
    "r"
   ]
  },
  {
   "cell_type": "markdown",
   "id": "40ead4d0-2ad3-4dfb-abb0-f5111b1da002",
   "metadata": {},
   "source": [
    "### Q5. Multiply the two tensors you created in 3 using dot product."
   ]
  },
  {
   "cell_type": "code",
   "execution_count": 10,
   "id": "68c87127-9347-4282-a5b1-99bb216e4690",
   "metadata": {},
   "outputs": [],
   "source": [
    "dot=tf.reduce_sum(tf.multiply(rt1, rt2),axis=-1)"
   ]
  },
  {
   "cell_type": "code",
   "execution_count": 11,
   "id": "a3aa268e-4bf5-4323-a675-ac0ac4bb4081",
   "metadata": {},
   "outputs": [
    {
     "data": {
      "text/plain": [
       "<tf.Tensor: shape=(5,), dtype=float32, numpy=\n",
       "array([75.42541 , 73.39239 , 76.795654, 76.47518 , 79.57688 ],\n",
       "      dtype=float32)>"
      ]
     },
     "execution_count": 11,
     "metadata": {},
     "output_type": "execute_result"
    }
   ],
   "source": [
    "dot"
   ]
  },
  {
   "cell_type": "markdown",
   "id": "9f9b2f79-1562-4226-b927-a2afc2db0fba",
   "metadata": {},
   "source": [
    "### Q6. Create a tensor with random values between 0 and 1 with shape [224,224,3]"
   ]
  },
  {
   "cell_type": "code",
   "execution_count": 12,
   "id": "fc4aff6b-8f50-4d5c-b299-162ab090c7d5",
   "metadata": {},
   "outputs": [
    {
     "name": "stdout",
     "output_type": "stream",
     "text": [
      "tf.Tensor(\n",
      "[[[6.26994848e-01 9.66418505e-01 8.44056845e-01]\n",
      "  [6.43767595e-01 1.99874640e-01 7.66219974e-01]\n",
      "  [2.92449713e-01 2.41701722e-01 4.20837164e-01]\n",
      "  ...\n",
      "  [3.54018569e-01 1.68668032e-01 1.30139589e-01]\n",
      "  [1.02827549e-02 5.79112411e-01 8.08912754e-01]\n",
      "  [7.18427300e-01 3.06723595e-01 7.10035086e-01]]\n",
      "\n",
      " [[9.97688770e-02 7.65814066e-01 5.05600929e-01]\n",
      "  [6.18267059e-02 4.68825459e-01 2.51135588e-01]\n",
      "  [9.66397524e-01 9.63644743e-01 6.02428794e-01]\n",
      "  ...\n",
      "  [7.92786479e-01 9.39568996e-01 9.55893993e-01]\n",
      "  [8.41504931e-01 9.88798738e-01 8.68022680e-01]\n",
      "  [2.59088159e-01 4.86475587e-01 1.01131439e-01]]\n",
      "\n",
      " [[1.82931304e-01 1.05701566e-01 9.01817322e-01]\n",
      "  [5.82913995e-01 7.89486289e-01 7.18855858e-01]\n",
      "  [7.86048174e-01 8.94211650e-01 4.23214436e-02]\n",
      "  ...\n",
      "  [3.41633797e-01 3.47017884e-01 9.07051325e-01]\n",
      "  [3.84280920e-01 7.01892376e-02 7.26778865e-01]\n",
      "  [2.05300808e-01 4.24817801e-01 4.38506484e-01]]\n",
      "\n",
      " ...\n",
      "\n",
      " [[8.58689308e-01 2.90883780e-01 8.28274012e-01]\n",
      "  [8.43740821e-01 5.40632486e-01 5.46266794e-01]\n",
      "  [1.73011661e-01 1.85751081e-01 9.93107438e-01]\n",
      "  ...\n",
      "  [3.48549366e-01 5.03391981e-01 5.09637713e-01]\n",
      "  [5.62991142e-01 3.99937391e-01 6.87532544e-01]\n",
      "  [4.42914844e-01 9.07991171e-01 1.80887938e-01]]\n",
      "\n",
      " [[9.54802036e-02 4.36180949e-01 6.50159121e-02]\n",
      "  [4.52774644e-01 3.27525496e-01 3.83961439e-01]\n",
      "  [1.47423983e-01 9.16421413e-02 2.44536281e-01]\n",
      "  ...\n",
      "  [8.19009066e-01 5.79824924e-01 2.53319740e-04]\n",
      "  [9.10278916e-01 2.02065229e-01 1.93867683e-02]\n",
      "  [9.31322813e-01 9.33940053e-01 5.27845740e-01]]\n",
      "\n",
      " [[3.31920743e-01 3.41144800e-01 1.67633295e-02]\n",
      "  [7.73739457e-01 5.32846928e-01 4.83186722e-01]\n",
      "  [6.08623981e-01 3.78010750e-01 4.14079428e-01]\n",
      "  ...\n",
      "  [9.91467357e-01 1.22430325e-01 2.44723678e-01]\n",
      "  [3.13431859e-01 4.77744341e-01 8.90042305e-01]\n",
      "  [4.78151560e-01 9.44901466e-01 1.23077989e-01]]], shape=(224, 224, 3), dtype=float32)\n",
      "tf.Tensor(\n",
      "[[[0.8604562  0.30992842 0.47813654]\n",
      "  [0.6879072  0.35184455 0.79286027]\n",
      "  [0.4489063  0.40496242 0.4487388 ]\n",
      "  ...\n",
      "  [0.8979447  0.08016086 0.4355787 ]\n",
      "  [0.23252428 0.20138872 0.36692512]\n",
      "  [0.9570966  0.875232   0.18591309]]\n",
      "\n",
      " [[0.30065596 0.7469511  0.7297536 ]\n",
      "  [0.6122154  0.00964391 0.43729365]\n",
      "  [0.5182396  0.40155494 0.52763176]\n",
      "  ...\n",
      "  [0.9206259  0.16416836 0.47910762]\n",
      "  [0.65313184 0.27808845 0.37623715]\n",
      "  [0.9222001  0.95221615 0.28749037]]\n",
      "\n",
      " [[0.30529153 0.87691367 0.8532959 ]\n",
      "  [0.99235094 0.8835572  0.4285909 ]\n",
      "  [0.36737347 0.3895867  0.9144306 ]\n",
      "  ...\n",
      "  [0.14520824 0.01530743 0.86348164]\n",
      "  [0.13478065 0.59690356 0.2904606 ]\n",
      "  [0.38803852 0.36010623 0.56615305]]\n",
      "\n",
      " ...\n",
      "\n",
      " [[0.13615024 0.5050218  0.8178667 ]\n",
      "  [0.92685366 0.55418694 0.48833215]\n",
      "  [0.7358837  0.03672576 0.86249423]\n",
      "  ...\n",
      "  [0.7477882  0.5547713  0.9954506 ]\n",
      "  [0.824975   0.32118857 0.04327655]\n",
      "  [0.53501    0.5732285  0.23904514]]\n",
      "\n",
      " [[0.46778786 0.7822368  0.6842536 ]\n",
      "  [0.41080153 0.05989099 0.92700946]\n",
      "  [0.3192234  0.49236274 0.67207074]\n",
      "  ...\n",
      "  [0.18376338 0.61631644 0.07774711]\n",
      "  [0.71896183 0.9626368  0.46224475]\n",
      "  [0.8658807  0.61043143 0.20767033]]\n",
      "\n",
      " [[0.9108232  0.7594217  0.8929609 ]\n",
      "  [0.49749434 0.5879148  0.54577553]\n",
      "  [0.3651514  0.05907989 0.01801348]\n",
      "  ...\n",
      "  [0.31793356 0.4144628  0.6035321 ]\n",
      "  [0.9604683  0.30700517 0.9792179 ]\n",
      "  [0.57412016 0.16395044 0.9377209 ]]], shape=(224, 224, 3), dtype=float32)\n",
      "tf.Tensor([224 224   3], shape=(3,), dtype=int32)\n",
      "tf.Tensor(150528, shape=(), dtype=int32)\n",
      "tf.Tensor(3, shape=(), dtype=int32)\n"
     ]
    }
   ],
   "source": [
    "sh1=[224,224,3]\n",
    "rt4=tf.random.uniform(shape=sh1)\n",
    "rt5=tf.random.uniform(shape=sh1)\n",
    "print(rt4)\n",
    "print(rt5)\n",
    "print(tf.shape(rt4))\n",
    "print(tf.size(rt4))\n",
    "print(tf.rank(rt4))"
   ]
  },
  {
   "cell_type": "markdown",
   "id": "3457017a-116b-4086-9f0b-09596f06e9a1",
   "metadata": {},
   "source": [
    "### Q7.Find the min and max values of the tensor you created in 6."
   ]
  },
  {
   "cell_type": "code",
   "execution_count": 13,
   "id": "100364da-28d8-4c3a-8a4a-132343f2b532",
   "metadata": {},
   "outputs": [
    {
     "name": "stdout",
     "output_type": "stream",
     "text": [
      "minimum of rt4: 1.168251e-05\n",
      "minimum of rt5: 5.9604645e-06\n"
     ]
    }
   ],
   "source": [
    "print(\"minimum of rt4:\",tf.reduce_min(rt4).numpy())\n",
    "print(\"minimum of rt5:\",tf.reduce_min(rt5).numpy())"
   ]
  },
  {
   "cell_type": "code",
   "execution_count": 14,
   "id": "47e53452-c489-48a1-9257-d43f818783f7",
   "metadata": {},
   "outputs": [
    {
     "name": "stdout",
     "output_type": "stream",
     "text": [
      "Maximum of rt4: 0.99999666\n",
      "Maximum of rt5: 0.9999987\n"
     ]
    }
   ],
   "source": [
    "print(\"Maximum of rt4:\",tf.reduce_max(rt4).numpy())\n",
    "print(\"Maximum of rt5:\",tf.reduce_max(rt5).numpy())"
   ]
  },
  {
   "cell_type": "markdown",
   "id": "18cb3774-e34b-467b-8841-00dcdc876839",
   "metadata": {},
   "source": [
    "### Q8.Created a tensor with random values of shape [1, 224, 224, 3] then squeeze it to change the shape to [224, 224, 3]"
   ]
  },
  {
   "cell_type": "code",
   "execution_count": 15,
   "id": "f215d8c3-4578-4dfc-b913-63bdb4da5217",
   "metadata": {},
   "outputs": [
    {
     "name": "stdout",
     "output_type": "stream",
     "text": [
      "Shape of random_tensor: tf.Tensor([  1 224 224   3], shape=(4,), dtype=int32)\n",
      "Shape of squeezed_tensor: tf.Tensor([224 224   3], shape=(3,), dtype=int32)\n"
     ]
    }
   ],
   "source": [
    "shape = [1, 224, 224, 3]\n",
    "random_tensor = tf.random.uniform(shape=shape)\n",
    "squeezed_tensor = tf.squeeze(random_tensor, axis=0)\n",
    "print(\"Shape of random_tensor:\", tf.shape(random_tensor))\n",
    "print(\"Shape of squeezed_tensor:\", tf.shape(squeezed_tensor))"
   ]
  },
  {
   "cell_type": "markdown",
   "id": "2259994a-5f87-4f66-90eb-661305659220",
   "metadata": {},
   "source": [
    "### Q9. Create a tensor with shape [10] using your own choice of values, then find the index which has the maximum value."
   ]
  },
  {
   "cell_type": "code",
   "execution_count": 16,
   "id": "5b48fa08-1a3c-47b5-93d0-84aa52edd983",
   "metadata": {},
   "outputs": [
    {
     "data": {
      "text/plain": [
       "6"
      ]
     },
     "execution_count": 16,
     "metadata": {},
     "output_type": "execute_result"
    }
   ],
   "source": [
    "myt=tf.constant([3, 8, 1, 7, 2, 5, 9, 4, 6, 0])\n",
    "max_index = tf.math.argmax(myt)\n",
    "max_index.numpy()"
   ]
  },
  {
   "cell_type": "markdown",
   "id": "aa58830a-e77b-4213-a03c-b291886a7661",
   "metadata": {},
   "source": [
    "### Q10.One-hot encode the tensor you created in 9"
   ]
  },
  {
   "cell_type": "code",
   "execution_count": 17,
   "id": "f7625ee3-b6e7-4238-81dd-6e6920babb80",
   "metadata": {},
   "outputs": [
    {
     "data": {
      "text/plain": [
       "array([[0., 0., 0., 1., 0., 0., 0., 0., 0., 0.],\n",
       "       [0., 0., 0., 0., 0., 0., 0., 0., 1., 0.],\n",
       "       [0., 1., 0., 0., 0., 0., 0., 0., 0., 0.],\n",
       "       [0., 0., 0., 0., 0., 0., 0., 1., 0., 0.],\n",
       "       [0., 0., 1., 0., 0., 0., 0., 0., 0., 0.],\n",
       "       [0., 0., 0., 0., 0., 1., 0., 0., 0., 0.],\n",
       "       [0., 0., 0., 0., 0., 0., 0., 0., 0., 1.],\n",
       "       [0., 0., 0., 0., 1., 0., 0., 0., 0., 0.],\n",
       "       [0., 0., 0., 0., 0., 0., 1., 0., 0., 0.],\n",
       "       [1., 0., 0., 0., 0., 0., 0., 0., 0., 0.]], dtype=float32)"
      ]
     },
     "execution_count": 17,
     "metadata": {},
     "output_type": "execute_result"
    }
   ],
   "source": [
    "vocabulary_size = len(set([3, 8, 1, 7, 2, 5, 9, 4, 6, 0])) \n",
    "one_hot_tensor = tf.one_hot(myt, depth=vocabulary_size)\n",
    "one_hot_tensor.numpy()"
   ]
  },
  {
   "cell_type": "markdown",
   "id": "92afcf23-f68c-4655-bb46-4021cb74a6a0",
   "metadata": {},
   "source": [
    "# PART-B"
   ]
  },
  {
   "cell_type": "markdown",
   "id": "dc2d3e3a-e468-4022-93b3-1c819d8eb5cd",
   "metadata": {},
   "source": [
    "### Q11. Get MNIST dataset to perform classification using tensorflow framework"
   ]
  },
  {
   "cell_type": "code",
   "execution_count": 18,
   "id": "1c346894-9796-4807-ab57-fe80b7cb6dac",
   "metadata": {},
   "outputs": [],
   "source": [
    "(train_images, train_labels), (test_images, test_labels) = keras.datasets.mnist.load_data()"
   ]
  },
  {
   "cell_type": "markdown",
   "id": "db234265-95b1-4e0f-b4f0-f97e9756b37f",
   "metadata": {},
   "source": [
    "### Q12. Check Nature of Data"
   ]
  },
  {
   "cell_type": "code",
   "execution_count": 19,
   "id": "2676b14d-6e62-4fff-b93a-1ba2b2c66e1e",
   "metadata": {},
   "outputs": [
    {
     "name": "stdout",
     "output_type": "stream",
     "text": [
      "(60000, 28, 28)\n",
      "(60000,)\n",
      "47040000\n"
     ]
    }
   ],
   "source": [
    "print(train_images.shape)\n",
    "print(train_labels.shape)\n",
    "print(train_images.size)"
   ]
  },
  {
   "cell_type": "markdown",
   "id": "b529964d-43c5-4bbd-accf-ab0685c56ef0",
   "metadata": {},
   "source": [
    "### Q13. Encode the labels obtained above."
   ]
  },
  {
   "cell_type": "code",
   "execution_count": 20,
   "id": "43aa81dc-30bc-40c5-8060-2feb0e80d73f",
   "metadata": {},
   "outputs": [],
   "source": [
    "train_labels=tf.one_hot(train_labels, 10, on_value=None, off_value=None, axis=-1, dtype=None).numpy()"
   ]
  },
  {
   "cell_type": "code",
   "execution_count": 21,
   "id": "43c2a250-ba38-46f7-9423-5cfe0f0c1508",
   "metadata": {},
   "outputs": [],
   "source": [
    "test_labels=tf.one_hot(test_labels, 10, on_value=None, off_value=None, axis=-1, dtype=None).numpy()"
   ]
  },
  {
   "cell_type": "code",
   "execution_count": 22,
   "id": "7af48795-787a-4a71-9a71-31e87ae40f65",
   "metadata": {},
   "outputs": [
    {
     "data": {
      "text/plain": [
       "600000"
      ]
     },
     "execution_count": 22,
     "metadata": {},
     "output_type": "execute_result"
    }
   ],
   "source": [
    "train_labels.size"
   ]
  },
  {
   "cell_type": "code",
   "execution_count": 23,
   "id": "8fd2bb3c-d1bc-42bb-8ab5-bd7bb75c1a30",
   "metadata": {},
   "outputs": [
    {
     "data": {
      "text/plain": [
       "100000"
      ]
     },
     "execution_count": 23,
     "metadata": {},
     "output_type": "execute_result"
    }
   ],
   "source": [
    "test_labels.size"
   ]
  },
  {
   "cell_type": "markdown",
   "id": "c8e83cea-3496-47de-934e-12f623bc3236",
   "metadata": {},
   "source": [
    "### Q14.Normalize and reshape the data"
   ]
  },
  {
   "cell_type": "code",
   "execution_count": 24,
   "id": "429593c9-413d-4e43-975f-a0e1f521ad42",
   "metadata": {},
   "outputs": [
    {
     "name": "stdout",
     "output_type": "stream",
     "text": [
      "(60000, 784)\n",
      "(10000, 784)\n"
     ]
    }
   ],
   "source": [
    "train_images=train_images/255.0\n",
    "test_images=test_images/255.0\n",
    "train_images=train_images.reshape(train_images.shape[0],-1)\n",
    "test_images=test_images.reshape(test_images.shape[0],-1)\n",
    "print(train_images.shape)\n",
    "print(test_images.shape)\n"
   ]
  },
  {
   "cell_type": "code",
   "execution_count": 25,
   "id": "c7423a82-75f3-402a-90a6-443ccf2d9d80",
   "metadata": {},
   "outputs": [
    {
     "data": {
      "text/plain": [
       "(60000, 10)"
      ]
     },
     "execution_count": 25,
     "metadata": {},
     "output_type": "execute_result"
    }
   ],
   "source": [
    "train_labels.shape"
   ]
  },
  {
   "cell_type": "markdown",
   "id": "7ffdc176-7037-4006-8014-2f7aab5c2ae3",
   "metadata": {},
   "source": [
    "### Q.15 Create a neural Network to classify the digits"
   ]
  },
  {
   "cell_type": "code",
   "execution_count": 26,
   "id": "d2382abb-70e3-46d1-9b40-727691863e81",
   "metadata": {},
   "outputs": [],
   "source": [
    "model=Sequential()"
   ]
  },
  {
   "cell_type": "code",
   "execution_count": 27,
   "id": "105bf0f9-0eeb-4d68-8e77-d6afaa29d110",
   "metadata": {},
   "outputs": [],
   "source": [
    "model.add(Dense(units=128,input_shape=(784,),activation='relu'))\n",
    "model.add(Dense(units=128,activation='relu'))\n",
    "model.add(Dropout(0.25))\n",
    "model.add(Dense(units=10,activation='softmax'))\n",
    "model.compile(loss='categorical_crossentropy',optimizer='adam',metrics=['accuracy'])"
   ]
  },
  {
   "cell_type": "markdown",
   "id": "3f7cbc50-8458-4d07-a3ec-8074e09cb78f",
   "metadata": {},
   "source": [
    "### Q16. Summarise and explain the model"
   ]
  },
  {
   "cell_type": "code",
   "execution_count": 28,
   "id": "2e9ed9cf-c420-41c8-a8d6-157e05696c91",
   "metadata": {},
   "outputs": [
    {
     "name": "stdout",
     "output_type": "stream",
     "text": [
      "Model: \"sequential\"\n",
      "_________________________________________________________________\n",
      " Layer (type)                Output Shape              Param #   \n",
      "=================================================================\n",
      " dense (Dense)               (None, 128)               100480    \n",
      "                                                                 \n",
      " dense_1 (Dense)             (None, 128)               16512     \n",
      "                                                                 \n",
      " dropout (Dropout)           (None, 128)               0         \n",
      "                                                                 \n",
      " dense_2 (Dense)             (None, 10)                1290      \n",
      "                                                                 \n",
      "=================================================================\n",
      "Total params: 118,282\n",
      "Trainable params: 118,282\n",
      "Non-trainable params: 0\n",
      "_________________________________________________________________\n"
     ]
    }
   ],
   "source": [
    "model.summary()"
   ]
  },
  {
   "cell_type": "markdown",
   "id": "9fcbb053-ae07-4892-bb2a-ea16a2e24a37",
   "metadata": {},
   "source": [
    "### Q.17 Train the model with batch size=512 for 10 epochs"
   ]
  },
  {
   "cell_type": "code",
   "execution_count": 29,
   "id": "12275227-49e0-44a2-993e-20ca6e4cf63d",
   "metadata": {},
   "outputs": [
    {
     "name": "stdout",
     "output_type": "stream",
     "text": [
      "Epoch 1/10\n",
      "118/118 [==============================] - 1s 3ms/step - loss: 0.5874 - accuracy: 0.8305\n",
      "Epoch 2/10\n",
      "118/118 [==============================] - 0s 3ms/step - loss: 0.2267 - accuracy: 0.9334\n",
      "Epoch 3/10\n",
      "118/118 [==============================] - 0s 4ms/step - loss: 0.1624 - accuracy: 0.9521\n",
      "Epoch 4/10\n",
      "118/118 [==============================] - 0s 4ms/step - loss: 0.1301 - accuracy: 0.9614\n",
      "Epoch 5/10\n",
      "118/118 [==============================] - 0s 4ms/step - loss: 0.1045 - accuracy: 0.9694\n",
      "Epoch 6/10\n",
      "118/118 [==============================] - 0s 4ms/step - loss: 0.0900 - accuracy: 0.9735\n",
      "Epoch 7/10\n",
      "118/118 [==============================] - 1s 4ms/step - loss: 0.0775 - accuracy: 0.9768\n",
      "Epoch 8/10\n",
      "118/118 [==============================] - 0s 3ms/step - loss: 0.0687 - accuracy: 0.9787\n",
      "Epoch 9/10\n",
      "118/118 [==============================] - 0s 4ms/step - loss: 0.0588 - accuracy: 0.9823\n",
      "Epoch 10/10\n",
      "118/118 [==============================] - 0s 4ms/step - loss: 0.0532 - accuracy: 0.9840\n"
     ]
    },
    {
     "data": {
      "text/plain": [
       "<keras.callbacks.History at 0x12ba8fce850>"
      ]
     },
     "execution_count": 29,
     "metadata": {},
     "output_type": "execute_result"
    }
   ],
   "source": [
    "model.fit(x=train_images,y=train_labels,batch_size=512,epochs=10)"
   ]
  },
  {
   "cell_type": "markdown",
   "id": "104366a9-9ed3-4c6e-8932-6ccc10f3fd65",
   "metadata": {},
   "source": [
    "### Q18. Pass an example to get the prediction."
   ]
  },
  {
   "cell_type": "code",
   "execution_count": 30,
   "id": "66cad382-b5dc-46f9-a611-ae8793359ab2",
   "metadata": {},
   "outputs": [
    {
     "name": "stdout",
     "output_type": "stream",
     "text": [
      "313/313 [==============================] - 0s 1ms/step\n"
     ]
    }
   ],
   "source": [
    "y_pred=model.predict(test_images)\n",
    "y_pred_classes=np.argmax(y_pred,axis=1)\n"
   ]
  },
  {
   "cell_type": "code",
   "execution_count": 31,
   "id": "43a8b88a-d4af-4e59-890e-8f367e43de9f",
   "metadata": {},
   "outputs": [
    {
     "data": {
      "text/plain": [
       "<matplotlib.image.AxesImage at 0x12baabe3040>"
      ]
     },
     "execution_count": 31,
     "metadata": {},
     "output_type": "execute_result"
    },
    {
     "data": {
      "image/png": "[encoded data removed]",
      "text/plain": [
       "<Figure size 640x480 with 1 Axes>"
      ]
     },
     "metadata": {},
     "output_type": "display_data"
    }
   ],
   "source": [
    "random_idx = np.random.choice(len(test_images))\n",
    "x_sample = test_images[random_idx]\n",
    "y_true = np.argmax(test_labels, axis=1)\n",
    "y_sample_true = y_true[random_idx]\n",
    "y_sample_pred_class = y_pred_classes[random_idx]\n",
    "\n",
    "plt.title(\"Predicted: {}, True: {}\".format(y_sample_pred_class, y_sample_true), fontsize=16)\n",
    "plt.imshow(x_sample.reshape(28, 28), cmap='gray')"
   ]
  },
  {
   "cell_type": "markdown",
   "id": "305628be-920c-49d8-a34c-aaf956410b18",
   "metadata": {},
   "source": [
    "### Q19. Get accuracy and confusion matrix of the model"
   ]
  },
  {
   "cell_type": "code",
   "execution_count": 32,
   "id": "124b9d2c-8b43-4ec4-a079-ccf9062ac140",
   "metadata": {},
   "outputs": [
    {
     "data": {
      "image/png": "[encoded data removed]",
      "text/plain": [
       "<Figure size 1500x1000 with 2 Axes>"
      ]
     },
     "metadata": {},
     "output_type": "display_data"
    }
   ],
   "source": [
    "\n",
    "confusion_mtx = confusion_matrix(y_true, y_pred_classes)\n",
    "\n",
    "\n",
    "fig, ax = plt.subplots(figsize=(15,10))\n",
    "ax = sns.heatmap(confusion_mtx, annot=True, fmt='d', ax=ax, cmap=\"Blues\")\n",
    "ax.set_xlabel('Predicted Label')\n",
    "ax.set_ylabel('True Label')\n",
    "ax.set_title('Confusion Matrix');"
   ]
  },
  {
   "cell_type": "code",
   "execution_count": 33,
   "id": "4ff16127-19eb-4028-b771-2e833f5c4336",
   "metadata": {},
   "outputs": [
    {
     "name": "stdout",
     "output_type": "stream",
     "text": [
      "Accuracy: 97.91%\n"
     ]
    }
   ],
   "source": [
    "\n",
    "sc = accuracy_score(y_true, y_pred_classes)\n",
    "print(\"Accuracy:\",sc*100,end=\"\")\n",
    "print(\"%\")\n"
   ]
  },
  {
   "cell_type": "markdown",
   "id": "4a9efeaf-45b4-4f1c-ba68-52d221872cbb",
   "metadata": {},
   "source": [
    "### Q20. Save the model"
   ]
  },
  {
   "cell_type": "code",
   "execution_count": 36,
   "id": "4974ff27-ecfc-40ec-9559-17df32aaaf8e",
   "metadata": {},
   "outputs": [],
   "source": [
    "model.save_weights('my_model_weights.h5') "
   ]
  }
 ],
 "metadata": {
  "kernelspec": {
   "display_name": "Python 3 (ipykernel)",
   "language": "python",
   "name": "python3"
  },
  "language_info": {
   "codemirror_mode": {
    "name": "ipython",
    "version": 3
   },
   "file_extension": ".py",
   "mimetype": "text/x-python",
   "name": "python",
   "nbconvert_exporter": "python",
   "pygments_lexer": "ipython3",
   "version": "3.9.15"
  }
 },
 "nbformat": 4,
 "nbformat_minor": 5
}
