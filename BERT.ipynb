{
 "cells": [
  {
   "cell_type": "markdown",
   "metadata": {},
   "source": [
    "# BERT \n",
    "# PART A"
   ]
  },
  {
   "cell_type": "code",
   "execution_count": 1,
   "metadata": {
    "execution": {
     "iopub.execute_input": "2024-11-07T20:03:51.513074Z",
     "iopub.status.busy": "2024-11-07T20:03:51.512623Z",
     "iopub.status.idle": "2024-11-07T20:03:59.245268Z",
     "shell.execute_reply": "2024-11-07T20:03:59.244485Z",
     "shell.execute_reply.started": "2024-11-07T20:03:51.513035Z"
    },
    "trusted": true
   },
   "outputs": [],
   "source": [
    "import pandas as pd\n",
    "import numpy as np\n",
    "import torch\n",
    "from torch.utils.data import DataLoader\n",
    "from transformers import BertTokenizer, BertForSequenceClassification, AdamW\n",
    "from sklearn.preprocessing import LabelEncoder\n",
    "from sklearn.model_selection import train_test_split"
   ]
  },
  {
   "cell_type": "code",
   "execution_count": 3,
   "metadata": {
    "execution": {
     "iopub.execute_input": "2024-11-07T18:56:10.049138Z",
     "iopub.status.busy": "2024-11-07T18:56:10.048710Z",
     "iopub.status.idle": "2024-11-07T18:56:10.165523Z",
     "shell.execute_reply": "2024-11-07T18:56:10.164485Z",
     "shell.execute_reply.started": "2024-11-07T18:56:10.049095Z"
    },
    "trusted": true
   },
   "outputs": [],
   "source": [
    "# Load datasets\n",
    "train_df = pd.read_csv('/kaggle/input/emotion-dataset/training.csv')\n",
    "val_df = pd.read_csv('/kaggle/input/emotion-dataset/validation.csv')\n",
    "test_df = pd.read_csv('/kaggle/input/emotion-dataset/test.csv')\n",
    "\n",
    "# Encode labels\n",
    "label_encoder = LabelEncoder()\n",
    "train_df['label'] = label_encoder.fit_transform(train_df['label'])  # Adjust column name as needed\n",
    "val_df['label'] = label_encoder.transform(val_df['label'])\n",
    "test_df['label'] = label_encoder.transform(test_df['label'])"
   ]
  },
  {
   "cell_type": "code",
   "execution_count": 15,
   "metadata": {
    "execution": {
     "iopub.execute_input": "2024-11-07T19:13:53.516286Z",
     "iopub.status.busy": "2024-11-07T19:13:53.515866Z",
     "iopub.status.idle": "2024-11-07T19:13:53.523700Z",
     "shell.execute_reply": "2024-11-07T19:13:53.522626Z",
     "shell.execute_reply.started": "2024-11-07T19:13:53.516230Z"
    },
    "trusted": true
   },
   "outputs": [
    {
     "data": {
      "text/plain": [
       "array([0, 1, 2, 3, 4, 5])"
      ]
     },
     "execution_count": 15,
     "metadata": {},
     "output_type": "execute_result"
    }
   ],
   "source": [
    "label_encoder.classes_"
   ]
  },
  {
   "cell_type": "code",
   "execution_count": 10,
   "metadata": {
    "execution": {
     "iopub.execute_input": "2024-11-07T19:09:20.047335Z",
     "iopub.status.busy": "2024-11-07T19:09:20.046937Z",
     "iopub.status.idle": "2024-11-07T19:09:36.126793Z",
     "shell.execute_reply": "2024-11-07T19:09:36.125691Z",
     "shell.execute_reply.started": "2024-11-07T19:09:20.047293Z"
    },
    "trusted": true
   },
   "outputs": [],
   "source": [
    "#tokenize and encode them\n",
    "tokenizer = BertTokenizer.from_pretrained('bert-base-uncased')\n",
    "train_encodings = tokenizer(train_df['text'].tolist(), truncation=True, padding=True, max_length=128)\n",
    "val_encodings = tokenizer(val_df['text'].tolist(), truncation=True, padding=True, max_length=128)\n",
    "test_encodings = tokenizer(test_df['text'].tolist(), truncation=True, padding=True, max_length=128)"
   ]
  },
  {
   "cell_type": "code",
   "execution_count": 5,
   "metadata": {
    "execution": {
     "iopub.execute_input": "2024-11-07T18:56:53.969413Z",
     "iopub.status.busy": "2024-11-07T18:56:53.968927Z",
     "iopub.status.idle": "2024-11-07T18:56:53.978992Z",
     "shell.execute_reply": "2024-11-07T18:56:53.977934Z",
     "shell.execute_reply.started": "2024-11-07T18:56:53.969365Z"
    },
    "trusted": true
   },
   "outputs": [],
   "source": [
    "# create custom dataset class to feed it to model\n",
    "class TextDataset(torch.utils.data.Dataset):\n",
    "    def __init__(self, encodings, labels):\n",
    "        self.encodings = encodings\n",
    "        self.labels = labels\n",
    "\n",
    "    def __getitem__(self, idx):\n",
    "        item = {key: torch.tensor(val[idx]) for key, val in self.encodings.items()}\n",
    "        item['labels'] = torch.tensor(self.labels[idx])\n",
    "        return item\n",
    "\n",
    "    def __len__(self):\n",
    "        return len(self.labels)\n",
    "\n",
    "train_dataset = TextDataset(train_encodings, train_df['label'].tolist())\n",
    "val_dataset = TextDataset(val_encodings, val_df['label'].tolist())\n",
    "test_dataset = TextDataset(test_encodings, test_df['label'].tolist())"
   ]
  },
  {
   "cell_type": "code",
   "execution_count": 6,
   "metadata": {
    "execution": {
     "iopub.execute_input": "2024-11-07T18:57:04.481346Z",
     "iopub.status.busy": "2024-11-07T18:57:04.480447Z",
     "iopub.status.idle": "2024-11-07T18:57:04.486535Z",
     "shell.execute_reply": "2024-11-07T18:57:04.485530Z",
     "shell.execute_reply.started": "2024-11-07T18:57:04.481305Z"
    },
    "trusted": true
   },
   "outputs": [],
   "source": [
    "# COnfigure data pipelines\n",
    "train_loader = DataLoader(train_dataset, batch_size=16, shuffle=True)\n",
    "val_loader = DataLoader(val_dataset, batch_size=16)\n",
    "test_loader = DataLoader(test_dataset, batch_size=16)"
   ]
  },
  {
   "cell_type": "code",
   "execution_count": 7,
   "metadata": {
    "execution": {
     "iopub.execute_input": "2024-11-07T18:57:17.834406Z",
     "iopub.status.busy": "2024-11-07T18:57:17.833472Z",
     "iopub.status.idle": "2024-11-07T18:57:21.097293Z",
     "shell.execute_reply": "2024-11-07T18:57:21.096195Z",
     "shell.execute_reply.started": "2024-11-07T18:57:17.834363Z"
    },
    "scrolled": true,
    "trusted": true
   },
   "outputs": [
    {
     "data": {
      "application/vnd.jupyter.widget-view+json": {
       "model_id": "eda77a467b0649d0a2223479a01ebb3d",
       "version_major": 2,
       "version_minor": 0
      },
      "text/plain": [
       "model.safetensors:   0%|          | 0.00/440M [00:00<?, ?B/s]"
      ]
     },
     "metadata": {},
     "output_type": "display_data"
    },
    {
     "name": "stderr",
     "output_type": "stream",
     "text": [
      "Some weights of BertForSequenceClassification were not initialized from the model checkpoint at bert-base-uncased and are newly initialized: ['classifier.bias', 'classifier.weight']\n",
      "You should probably TRAIN this model on a down-stream task to be able to use it for predictions and inference.\n"
     ]
    },
    {
     "data": {
      "text/plain": [
       "BertForSequenceClassification(\n",
       "  (bert): BertModel(\n",
       "    (embeddings): BertEmbeddings(\n",
       "      (word_embeddings): Embedding(30522, 768, padding_idx=0)\n",
       "      (position_embeddings): Embedding(512, 768)\n",
       "      (token_type_embeddings): Embedding(2, 768)\n",
       "      (LayerNorm): LayerNorm((768,), eps=1e-12, elementwise_affine=True)\n",
       "      (dropout): Dropout(p=0.1, inplace=False)\n",
       "    )\n",
       "    (encoder): BertEncoder(\n",
       "      (layer): ModuleList(\n",
       "        (0-11): 12 x BertLayer(\n",
       "          (attention): BertAttention(\n",
       "            (self): BertSdpaSelfAttention(\n",
       "              (query): Linear(in_features=768, out_features=768, bias=True)\n",
       "              (key): Linear(in_features=768, out_features=768, bias=True)\n",
       "              (value): Linear(in_features=768, out_features=768, bias=True)\n",
       "              (dropout): Dropout(p=0.1, inplace=False)\n",
       "            )\n",
       "            (output): BertSelfOutput(\n",
       "              (dense): Linear(in_features=768, out_features=768, bias=True)\n",
       "              (LayerNorm): LayerNorm((768,), eps=1e-12, elementwise_affine=True)\n",
       "              (dropout): Dropout(p=0.1, inplace=False)\n",
       "            )\n",
       "          )\n",
       "          (intermediate): BertIntermediate(\n",
       "            (dense): Linear(in_features=768, out_features=3072, bias=True)\n",
       "            (intermediate_act_fn): GELUActivation()\n",
       "          )\n",
       "          (output): BertOutput(\n",
       "            (dense): Linear(in_features=3072, out_features=768, bias=True)\n",
       "            (LayerNorm): LayerNorm((768,), eps=1e-12, elementwise_affine=True)\n",
       "            (dropout): Dropout(p=0.1, inplace=False)\n",
       "          )\n",
       "        )\n",
       "      )\n",
       "    )\n",
       "    (pooler): BertPooler(\n",
       "      (dense): Linear(in_features=768, out_features=768, bias=True)\n",
       "      (activation): Tanh()\n",
       "    )\n",
       "  )\n",
       "  (dropout): Dropout(p=0.1, inplace=False)\n",
       "  (classifier): Linear(in_features=768, out_features=6, bias=True)\n",
       ")"
      ]
     },
     "execution_count": 7,
     "metadata": {},
     "output_type": "execute_result"
    }
   ],
   "source": [
    "#initialise models\n",
    "model = BertForSequenceClassification.from_pretrained('bert-base-uncased', num_labels=len(label_encoder.classes_))\n",
    "model.to('cuda' if torch.cuda.is_available() else 'cpu')"
   ]
  },
  {
   "cell_type": "code",
   "execution_count": 8,
   "metadata": {
    "execution": {
     "iopub.execute_input": "2024-11-07T18:57:30.910075Z",
     "iopub.status.busy": "2024-11-07T18:57:30.909658Z",
     "iopub.status.idle": "2024-11-07T18:57:31.688410Z",
     "shell.execute_reply": "2024-11-07T18:57:31.687508Z",
     "shell.execute_reply.started": "2024-11-07T18:57:30.910033Z"
    },
    "trusted": true
   },
   "outputs": [
    {
     "name": "stderr",
     "output_type": "stream",
     "text": [
      "/opt/conda/lib/python3.10/site-packages/transformers/optimization.py:591: FutureWarning: This implementation of AdamW is deprecated and will be removed in a future version. Use the PyTorch implementation torch.optim.AdamW instead, or set `no_deprecation_warning=True` to disable this warning\n",
      "  warnings.warn(\n"
     ]
    }
   ],
   "source": [
    "# initialise optimizer\n",
    "optimizer = AdamW(model.parameters(), lr=5e-5)"
   ]
  },
  {
   "cell_type": "code",
   "execution_count": 9,
   "metadata": {
    "execution": {
     "iopub.execute_input": "2024-11-07T18:57:47.582622Z",
     "iopub.status.busy": "2024-11-07T18:57:47.581969Z",
     "iopub.status.idle": "2024-11-07T19:09:20.044901Z",
     "shell.execute_reply": "2024-11-07T19:09:20.043770Z",
     "shell.execute_reply.started": "2024-11-07T18:57:47.582579Z"
    },
    "trusted": true
   },
   "outputs": [
    {
     "name": "stdout",
     "output_type": "stream",
     "text": [
      "Epoch 1 completed.\n",
      "Epoch 2 completed.\n",
      "Epoch 3 completed.\n"
     ]
    }
   ],
   "source": [
    "# train the model\n",
    "for epoch in range(3):  # Total number of epochs\n",
    "    model.train()\n",
    "    for batch in train_loader:\n",
    "        optimizer.zero_grad()\n",
    "        inputs = {key: val.to('cuda' if torch.cuda.is_available() else 'cpu') for key, val in batch.items()}\n",
    "        outputs = model(**inputs)\n",
    "        loss = outputs.loss\n",
    "        loss.backward()\n",
    "        optimizer.step()\n",
    "    print(f'Epoch {epoch + 1} completed.')"
   ]
  },
  {
   "cell_type": "code",
   "execution_count": 11,
   "metadata": {
    "execution": {
     "iopub.execute_input": "2024-11-07T19:11:23.948832Z",
     "iopub.status.busy": "2024-11-07T19:11:23.948422Z",
     "iopub.status.idle": "2024-11-07T19:11:31.394320Z",
     "shell.execute_reply": "2024-11-07T19:11:31.393177Z",
     "shell.execute_reply.started": "2024-11-07T19:11:23.948793Z"
    },
    "trusted": true
   },
   "outputs": [
    {
     "name": "stdout",
     "output_type": "stream",
     "text": [
      "Validation Accuracy: 0.9300\n"
     ]
    }
   ],
   "source": [
    "# evaluate on validation set\n",
    "model.eval()\n",
    "val_preds = []\n",
    "val_labels = []\n",
    "with torch.no_grad():\n",
    "    for batch in val_loader:\n",
    "        inputs = {key: val.to('cuda' if torch.cuda.is_available() else 'cpu') for key, val in batch.items()}\n",
    "        outputs = model(**inputs)\n",
    "        preds = torch.argmax(outputs.logits, dim=1)\n",
    "        val_preds.extend(preds.cpu().numpy())\n",
    "        val_labels.extend(batch['labels'].cpu().numpy())\n",
    "\n",
    "val_accuracy = (np.array(val_preds) == np.array(val_labels)).mean()\n",
    "print(f'Validation Accuracy: {val_accuracy:.4f}')\n"
   ]
  },
  {
   "cell_type": "code",
   "execution_count": 12,
   "metadata": {
    "execution": {
     "iopub.execute_input": "2024-11-07T19:11:31.396528Z",
     "iopub.status.busy": "2024-11-07T19:11:31.396164Z",
     "iopub.status.idle": "2024-11-07T19:11:38.513534Z",
     "shell.execute_reply": "2024-11-07T19:11:38.512315Z",
     "shell.execute_reply.started": "2024-11-07T19:11:31.396492Z"
    },
    "trusted": true
   },
   "outputs": [
    {
     "name": "stdout",
     "output_type": "stream",
     "text": [
      "Test Accuracy: 0.9170\n"
     ]
    }
   ],
   "source": [
    "# evaluate on testing set\n",
    "model.eval()\n",
    "test_preds = []\n",
    "test_labels = []\n",
    "with torch.no_grad():\n",
    "    for batch in test_loader:\n",
    "        inputs = {key: val.to('cuda' if torch.cuda.is_available() else 'cpu') for key, val in batch.items()}\n",
    "        outputs = model(**inputs)\n",
    "        preds = torch.argmax(outputs.logits, dim=1)\n",
    "        test_preds.extend(preds.cpu().numpy())\n",
    "        test_labels.extend(batch['labels'].cpu().numpy())\n",
    "\n",
    "test_accuracy = (np.array(test_preds) == np.array(test_labels)).mean()\n",
    "print(f'Test Accuracy: {test_accuracy:.4f}')"
   ]
  },
  {
   "cell_type": "code",
   "execution_count": 14,
   "metadata": {
    "execution": {
     "iopub.execute_input": "2024-11-07T19:13:20.674198Z",
     "iopub.status.busy": "2024-11-07T19:13:20.673719Z",
     "iopub.status.idle": "2024-11-07T19:13:20.699337Z",
     "shell.execute_reply": "2024-11-07T19:13:20.697987Z",
     "shell.execute_reply.started": "2024-11-07T19:13:20.674157Z"
    },
    "trusted": true
   },
   "outputs": [
    {
     "name": "stdout",
     "output_type": "stream",
     "text": [
      "Predicted Emotion: [1]\n"
     ]
    }
   ],
   "source": [
    "# try inference with random text\n",
    "def infer(text):\n",
    "    model.eval()\n",
    "    inputs = tokenizer(text, return_tensors='pt', truncation=True, padding=True, max_length=128).to('cuda' if torch.cuda.is_available() else 'cpu')\n",
    "    with torch.no_grad():\n",
    "        outputs = model(**inputs)\n",
    "        preds = torch.argmax(outputs.logits, dim=1)\n",
    "    return label_encoder.inverse_transform(preds.cpu().numpy())\n",
    "\n",
    "# Example inference\n",
    "new_text = \"I am feeling great today!\"\n",
    "prediction = infer(new_text)\n",
    "print(f'Predicted Emotion: {prediction}')"
   ]
  },
  {
   "cell_type": "markdown",
   "metadata": {},
   "source": [
    "# PART B\n",
    "# Using German dataset and German-Bert Model"
   ]
  },
  {
   "cell_type": "code",
   "execution_count": 3,
   "metadata": {
    "execution": {
     "iopub.execute_input": "2024-11-07T20:18:05.903351Z",
     "iopub.status.busy": "2024-11-07T20:18:05.902665Z",
     "iopub.status.idle": "2024-11-07T20:18:06.058084Z",
     "shell.execute_reply": "2024-11-07T20:18:06.056623Z",
     "shell.execute_reply.started": "2024-11-07T20:18:05.903301Z"
    },
    "trusted": true
   },
   "outputs": [
    {
     "name": "stderr",
     "output_type": "stream",
     "text": [
      "/tmp/ipykernel_30/1848729433.py:5: SettingWithCopyWarning: \n",
      "A value is trying to be set on a copy of a slice from a DataFrame.\n",
      "Try using .loc[row_indexer,col_indexer] = value instead\n",
      "\n",
      "See the caveats in the documentation: https://pandas.pydata.org/pandas-docs/stable/user_guide/indexing.html#returning-a-view-versus-a-copy\n",
      "  train_df['grade'] = label_encoder.fit_transform(train_df['grade'])\n",
      "/tmp/ipykernel_30/1848729433.py:6: SettingWithCopyWarning: \n",
      "A value is trying to be set on a copy of a slice from a DataFrame.\n",
      "Try using .loc[row_indexer,col_indexer] = value instead\n",
      "\n",
      "See the caveats in the documentation: https://pandas.pydata.org/pandas-docs/stable/user_guide/indexing.html#returning-a-view-versus-a-copy\n",
      "  test_df['grade'] = label_encoder.transform(test_df['grade'])\n"
     ]
    }
   ],
   "source": [
    "data = pd.read_csv('/kaggle/input/german-rap-de/final_raps_de.csv')\n",
    "split_index = int(len(data) * 0.8)\n",
    "train_df = data.iloc[:split_index] \n",
    "test_df = data.iloc[split_index:] \n",
    "train_df['grade'] = label_encoder.fit_transform(train_df['grade'])\n",
    "test_df['grade'] = label_encoder.transform(test_df['grade'])"
   ]
  },
  {
   "cell_type": "code",
   "execution_count": 5,
   "metadata": {
    "execution": {
     "iopub.execute_input": "2024-11-07T20:18:42.623456Z",
     "iopub.status.busy": "2024-11-07T20:18:42.622677Z",
     "iopub.status.idle": "2024-11-07T20:19:28.057268Z",
     "shell.execute_reply": "2024-11-07T20:19:28.056270Z",
     "shell.execute_reply.started": "2024-11-07T20:18:42.623417Z"
    },
    "trusted": true
   },
   "outputs": [],
   "source": [
    "model_name = 'bert-base-german-cased'\n",
    "tokenizer = BertTokenizer.from_pretrained(model_name)\n",
    "train_encodings = tokenizer(train_df['lyrics'].tolist(), truncation=True, padding=True, max_length=128)\n",
    "test_encodings = tokenizer(test_df['lyrics'].tolist(), truncation=True, padding=True, max_length=128)"
   ]
  },
  {
   "cell_type": "code",
   "execution_count": 7,
   "metadata": {
    "execution": {
     "iopub.execute_input": "2024-11-07T20:19:41.623079Z",
     "iopub.status.busy": "2024-11-07T20:19:41.622702Z",
     "iopub.status.idle": "2024-11-07T20:19:41.630897Z",
     "shell.execute_reply": "2024-11-07T20:19:41.629797Z",
     "shell.execute_reply.started": "2024-11-07T20:19:41.623045Z"
    },
    "trusted": true
   },
   "outputs": [],
   "source": [
    "# create custom dataset class to feed it to model\n",
    "class TextDataset(torch.utils.data.Dataset):\n",
    "    def __init__(self, encodings, labels):\n",
    "        self.encodings = encodings\n",
    "        self.labels = labels\n",
    "\n",
    "    def __getitem__(self, idx):\n",
    "        item = {key: torch.tensor(val[idx]) for key, val in self.encodings.items()}\n",
    "        item['labels'] = torch.tensor(self.labels[idx])\n",
    "        return item\n",
    "\n",
    "    def __len__(self):\n",
    "        return len(self.labels)\n",
    "\n",
    "train_dataset = TextDataset(train_encodings, train_df['grade'].tolist())\n",
    "test_dataset = TextDataset(test_encodings, test_df['grade'].tolist())"
   ]
  },
  {
   "cell_type": "code",
   "execution_count": 8,
   "metadata": {
    "execution": {
     "iopub.execute_input": "2024-11-07T20:19:44.483253Z",
     "iopub.status.busy": "2024-11-07T20:19:44.482799Z",
     "iopub.status.idle": "2024-11-07T20:19:44.488976Z",
     "shell.execute_reply": "2024-11-07T20:19:44.487836Z",
     "shell.execute_reply.started": "2024-11-07T20:19:44.483211Z"
    },
    "trusted": true
   },
   "outputs": [],
   "source": [
    "train_loader = DataLoader(train_dataset, batch_size=16, shuffle=True)\n",
    "test_loader = DataLoader(test_dataset, batch_size=16)"
   ]
  },
  {
   "cell_type": "code",
   "execution_count": 9,
   "metadata": {
    "execution": {
     "iopub.execute_input": "2024-11-07T20:19:45.758202Z",
     "iopub.status.busy": "2024-11-07T20:19:45.757531Z",
     "iopub.status.idle": "2024-11-07T20:19:47.007421Z",
     "shell.execute_reply": "2024-11-07T20:19:47.006499Z",
     "shell.execute_reply.started": "2024-11-07T20:19:45.758165Z"
    },
    "scrolled": true,
    "trusted": true
   },
   "outputs": [
    {
     "name": "stderr",
     "output_type": "stream",
     "text": [
      "Some weights of BertForSequenceClassification were not initialized from the model checkpoint at bert-base-german-cased and are newly initialized: ['classifier.bias', 'classifier.weight']\n",
      "You should probably TRAIN this model on a down-stream task to be able to use it for predictions and inference.\n"
     ]
    },
    {
     "data": {
      "text/plain": [
       "BertForSequenceClassification(\n",
       "  (bert): BertModel(\n",
       "    (embeddings): BertEmbeddings(\n",
       "      (word_embeddings): Embedding(30000, 768, padding_idx=0)\n",
       "      (position_embeddings): Embedding(512, 768)\n",
       "      (token_type_embeddings): Embedding(2, 768)\n",
       "      (LayerNorm): LayerNorm((768,), eps=1e-12, elementwise_affine=True)\n",
       "      (dropout): Dropout(p=0.1, inplace=False)\n",
       "    )\n",
       "    (encoder): BertEncoder(\n",
       "      (layer): ModuleList(\n",
       "        (0-11): 12 x BertLayer(\n",
       "          (attention): BertAttention(\n",
       "            (self): BertSdpaSelfAttention(\n",
       "              (query): Linear(in_features=768, out_features=768, bias=True)\n",
       "              (key): Linear(in_features=768, out_features=768, bias=True)\n",
       "              (value): Linear(in_features=768, out_features=768, bias=True)\n",
       "              (dropout): Dropout(p=0.1, inplace=False)\n",
       "            )\n",
       "            (output): BertSelfOutput(\n",
       "              (dense): Linear(in_features=768, out_features=768, bias=True)\n",
       "              (LayerNorm): LayerNorm((768,), eps=1e-12, elementwise_affine=True)\n",
       "              (dropout): Dropout(p=0.1, inplace=False)\n",
       "            )\n",
       "          )\n",
       "          (intermediate): BertIntermediate(\n",
       "            (dense): Linear(in_features=768, out_features=3072, bias=True)\n",
       "            (intermediate_act_fn): GELUActivation()\n",
       "          )\n",
       "          (output): BertOutput(\n",
       "            (dense): Linear(in_features=3072, out_features=768, bias=True)\n",
       "            (LayerNorm): LayerNorm((768,), eps=1e-12, elementwise_affine=True)\n",
       "            (dropout): Dropout(p=0.1, inplace=False)\n",
       "          )\n",
       "        )\n",
       "      )\n",
       "    )\n",
       "    (pooler): BertPooler(\n",
       "      (dense): Linear(in_features=768, out_features=768, bias=True)\n",
       "      (activation): Tanh()\n",
       "    )\n",
       "  )\n",
       "  (dropout): Dropout(p=0.1, inplace=False)\n",
       "  (classifier): Linear(in_features=768, out_features=6, bias=True)\n",
       ")"
      ]
     },
     "execution_count": 9,
     "metadata": {},
     "output_type": "execute_result"
    }
   ],
   "source": [
    "model = BertForSequenceClassification.from_pretrained(model_name, num_labels=len(label_encoder.classes_))\n",
    "model.to('cuda' if torch.cuda.is_available() else 'cpu')"
   ]
  },
  {
   "cell_type": "code",
   "execution_count": 10,
   "metadata": {
    "execution": {
     "iopub.execute_input": "2024-11-07T20:19:54.317990Z",
     "iopub.status.busy": "2024-11-07T20:19:54.317564Z",
     "iopub.status.idle": "2024-11-07T20:19:54.327145Z",
     "shell.execute_reply": "2024-11-07T20:19:54.326216Z",
     "shell.execute_reply.started": "2024-11-07T20:19:54.317950Z"
    },
    "trusted": true
   },
   "outputs": [
    {
     "name": "stderr",
     "output_type": "stream",
     "text": [
      "/opt/conda/lib/python3.10/site-packages/transformers/optimization.py:591: FutureWarning: This implementation of AdamW is deprecated and will be removed in a future version. Use the PyTorch implementation torch.optim.AdamW instead, or set `no_deprecation_warning=True` to disable this warning\n",
      "  warnings.warn(\n"
     ]
    }
   ],
   "source": [
    "# initialise optimizer\n",
    "optimizer = AdamW(model.parameters(), lr=5e-5)"
   ]
  },
  {
   "cell_type": "code",
   "execution_count": 11,
   "metadata": {
    "execution": {
     "iopub.execute_input": "2024-11-07T20:20:01.292921Z",
     "iopub.status.busy": "2024-11-07T20:20:01.292526Z",
     "iopub.status.idle": "2024-11-07T20:23:17.801820Z",
     "shell.execute_reply": "2024-11-07T20:23:17.800803Z",
     "shell.execute_reply.started": "2024-11-07T20:20:01.292886Z"
    },
    "trusted": true
   },
   "outputs": [
    {
     "name": "stdout",
     "output_type": "stream",
     "text": [
      "Epoch 1 completed.\n",
      "Epoch 2 completed.\n",
      "Epoch 3 completed.\n"
     ]
    }
   ],
   "source": [
    "# train the model\n",
    "for epoch in range(3):  # Total number of epochs\n",
    "    model.train()\n",
    "    for batch in train_loader:\n",
    "        optimizer.zero_grad()\n",
    "        inputs = {key: val.to('cuda' if torch.cuda.is_available() else 'cpu') for key, val in batch.items()}\n",
    "        outputs = model(**inputs)\n",
    "        loss = outputs.loss\n",
    "        loss.backward()\n",
    "        optimizer.step()\n",
    "    print(f'Epoch {epoch + 1} completed.')"
   ]
  },
  {
   "cell_type": "code",
   "execution_count": 12,
   "metadata": {
    "execution": {
     "iopub.execute_input": "2024-11-07T20:23:17.804432Z",
     "iopub.status.busy": "2024-11-07T20:23:17.803776Z",
     "iopub.status.idle": "2024-11-07T20:23:23.347143Z",
     "shell.execute_reply": "2024-11-07T20:23:23.346097Z",
     "shell.execute_reply.started": "2024-11-07T20:23:17.804383Z"
    },
    "trusted": true
   },
   "outputs": [
    {
     "name": "stdout",
     "output_type": "stream",
     "text": [
      "Validation Accuracy: 0.4787\n"
     ]
    }
   ],
   "source": [
    "# evaluate on test set\n",
    "model.eval()\n",
    "val_preds = []\n",
    "val_labels = []\n",
    "with torch.no_grad():\n",
    "    for batch in test_loader:\n",
    "        inputs = {key: val.to('cuda' if torch.cuda.is_available() else 'cpu') for key, val in batch.items()}\n",
    "        outputs = model(**inputs)\n",
    "        preds = torch.argmax(outputs.logits, dim=1)\n",
    "        val_preds.extend(preds.cpu().numpy())\n",
    "        val_labels.extend(batch['labels'].cpu().numpy())\n",
    "\n",
    "val_accuracy = (np.array(val_preds) == np.array(val_labels)).mean()\n",
    "print(f'Validation Accuracy: {val_accuracy:.4f}')\n"
   ]
  }
 ],
 "metadata": {
  "kaggle": {
   "accelerator": "nvidiaTeslaT4",
   "dataSources": [
    {
     "datasetId": 1590810,
     "sourceId": 2617192,
     "sourceType": "datasetVersion"
    },
    {
     "datasetId": 6034579,
     "sourceId": 9837499,
     "sourceType": "datasetVersion"
    }
   ],
   "dockerImageVersionId": 30787,
   "isGpuEnabled": true,
   "isInternetEnabled": true,
   "language": "python",
   "sourceType": "notebook"
  },
  "kernelspec": {
   "display_name": "Python 3",
   "language": "python",
   "name": "python3"
  },
  "language_info": {
   "codemirror_mode": {
    "name": "ipython",
    "version": 3
   },
   "file_extension": ".py",
   "mimetype": "text/x-python",
   "name": "python",
   "nbconvert_exporter": "python",
   "pygments_lexer": "ipython3",
   "version": "3.10.14"
  }
 },
 "nbformat": 4,
 "nbformat_minor": 4
}
